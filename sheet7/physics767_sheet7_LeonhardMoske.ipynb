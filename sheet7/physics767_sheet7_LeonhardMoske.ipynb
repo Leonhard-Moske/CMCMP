{
 "cells": [
  {
   "cell_type": "markdown",
   "metadata": {},
   "source": [
    "# Sheet7 Leonhard Moske\n"
   ]
  },
  {
   "cell_type": "code",
   "execution_count": 13,
   "metadata": {},
   "outputs": [],
   "source": [
    "import numpy as np\n",
    "import itertools as it\n",
    "import sympy\n",
    "\n",
    "def pullGaussWfFactors(mean, std, N):\n",
    "    return np.random.normal(mean, std, N)\n",
    "\n",
    "def genBasis(L, s): #L number of spins, s total spin\n",
    "    posSpins = np.linspace(-s, s, int((2*s+1)), dtype = float)#generate List of all possible z projections\n",
    "    #print(\"possible Spins \", posSpins)\n",
    "    tmp = it.product(posSpins, repeat = L) # generate object that itterates over all combinations\n",
    "    return np.asarray([i for i in tmp]) # assemble the list\n",
    "\n",
    "\n",
    "def Splus(oldcoef, state, site, s): # site counted from 0 as tupel , passed with copy\n",
    "                        # return new coefficient and new state \n",
    "    if (state[site] >= s): # if state is s the operator will return 0\n",
    "        return 0, np.zeros(state.shape)\n",
    "    coef = np.sqrt(s*(s+1) - state[site] * (state[site] + 1)) #calculate new coef\n",
    "    state[site] = state[site] + 1 # update spin state\n",
    "    return coef*oldcoef, state \n",
    "\n",
    "def Sminus(oldcoef, state, site, s): # analog to Splus\n",
    "    if (state[site] <= -s ):\n",
    "        return 0, np.zeros(state.shape)\n",
    "    coef = np.sqrt(s*(s+1) - state[site] * (state[site] - 1))\n",
    "    state[site] = state[site] - 1\n",
    "    return coef*oldcoef, state \n",
    "\n",
    "def Sz(coef, state, site): \n",
    "    return state[site]*coef, state\n",
    "\n",
    "def Hamiltonian(statei , statej, s, J, Lx, Ly):\n",
    "    H = 0\n",
    "    for i in range(Lx*Ly): #apply the operators to every site in x direction\n",
    "        # print(\"index,\",i)\n",
    "        if i%Lx == 0:\n",
    "            # print(\"x Bounds\",i, i+Lx-1)\n",
    "            coef1, state1 = Splus(*Sminus(1, np.copy(statei), i+Lx-1, s), i, s)\n",
    "            coef2, state2 = Sminus(*Splus(1, np.copy(statei), i+Lx-1, s), i, s)\n",
    "            coef3, state3 = Sz(*Sz(1, np.copy(statei), i+Lx-1), i)\n",
    "            if np.array_equal(state1, statej): #compare if (<i|H)|j> is 0 for every term\n",
    "                H += coef1*J*0.5\n",
    "            if np.array_equal(state2, statej):\n",
    "                H += coef2*J*0.5\n",
    "            if np.array_equal(state3, statej):\n",
    "                H += coef3 * J\n",
    "        else:\n",
    "            # print(\"x normal\", i, i-1)\n",
    "            coef1, state1 = Splus(*Sminus(1, np.copy(statei), i-1, s), i, s)\n",
    "            coef2, state2 = Sminus(*Splus(1, np.copy(statei), i-1, s), i, s)\n",
    "            coef3, state3 = Sz(*Sz(1, np.copy(statei), i-1), i)\n",
    "            if np.array_equal(state1, statej): #compare if (<i|H)|j> is 0 for every term\n",
    "                H += coef1*J*0.5\n",
    "            if np.array_equal(state2, statej):\n",
    "                H += coef2*J*0.5\n",
    "            if np.array_equal(state3, statej):\n",
    "                H += coef3 * J\n",
    "        # apply in y direction\n",
    "        coef1, state1 = Splus(*Sminus(1, np.copy(statei), i-Lx, s), i, s)\n",
    "        coef2, state2 = Sminus(*Splus(1, np.copy(statei), i-Lx, s), i, s)\n",
    "        coef3, state3 = Sz(*Sz(1, np.copy(statei), i-Lx), i)\n",
    "        if np.array_equal(state1, statej): #compare if (<i|H)|j> is 0 for every term\n",
    "            H += coef1*J*0.5\n",
    "        if np.array_equal(state2, statej):\n",
    "            H += coef2*J*0.5\n",
    "        if np.array_equal(state3, statej):\n",
    "            H += coef3 * J\n",
    "    return H\n",
    "\n",
    "def calcMatrix(Basis, J, Lx, Ly, s):# calculate the basis by calculating the hamiltonian with all combination from the basis\n",
    "    Matrix = np.empty((len(Basis),len(Basis)))\n",
    "    for i, j in it.product(range(len(Basis)), repeat=2):\n",
    "        # print(i,j)\n",
    "        Matrix[i,j] = Hamiltonian(Basis[i], Basis[j], s,J, Lx, Ly)\n",
    "    return Matrix\n",
    "\n",
    "def totalZ(state, Lx,Ly):\n",
    "    totalZ = 0\n",
    "    for i in range(Lx*Ly):\n",
    "        totalZ += Sz(1, state, i)[0]\n",
    "    return totalZ\n",
    "\n",
    "def splitBasisTotZ(Basis, Lx,Ly):\n",
    "    splitBasis= []\n",
    "    sortedBasis = sorted(Basis, key = lambda state : (totalZ(state, Lx,Ly)))\n",
    "    tmpBasis = []\n",
    "    oldz = totalZ(sortedBasis[0],Lx,Ly)\n",
    "    for state in sortedBasis:\n",
    "        z = totalZ(state, Lx,Ly)\n",
    "        if z != oldz:\n",
    "            splitBasis.append(tmpBasis)\n",
    "            tmpBasis = [state]\n",
    "            oldz = z\n",
    "        else:\n",
    "            tmpBasis.append(state)\n",
    "            oldz = z\n",
    "    splitBasis.append(tmpBasis)  \n",
    "    return splitBasis\n",
    "\n",
    "from scipy.sparse import csr_matrix\n",
    "\n",
    "def lancoz(A, v_un, m): #A is scipy sparse matrix\n",
    "    n = len(v_un)\n",
    "    alpha = np.empty(m)\n",
    "    beta = np.empty(m)\n",
    "    v = np.empty((m+1,n))\n",
    "    v0 = v_un / np.linalg.norm(v_un)\n",
    "    v[0] = v0\n",
    "    beta[0] = 0\n",
    "    w = A.dot(v[0])\n",
    "    alpha[0] = np.dot(w,v[0])\n",
    "    w = np.add(w, -1*alpha[0]*v[0])\n",
    "    beta[1] = np.linalg.norm(w)\n",
    "    v[1] = w/beta[1]\n",
    "    for j in range(1,m-1):\n",
    "        w = np.add(A.dot(v[j]), (-1)*beta[j]*v[j-1])\n",
    "        alpha[j] =  np.dot(w,v[j])\n",
    "        w = np.add(w, -1*alpha[j]*v[j]) \n",
    "        beta[j+1] = np.linalg.norm(w)\n",
    "        v[j+1] = w/beta[j+1]\n",
    "    return v, alpha, beta[1:]\n",
    "\n",
    "def wrapLancoz(csr_matrix, L, m, v0):\n",
    "    \n",
    "    # v0 = np.random.rand(2**L)\n",
    "    v, alpha, beta = lancoz(csr_matrix, v0, m)\n",
    "\n",
    "    T = np.zeros((m,m))\n",
    "\n",
    "    for i in range(m):\n",
    "        T[i,i] = alpha[i]\n",
    "    for i in range(m-1):\n",
    "        T[i,i+1] = beta[i]\n",
    "        T[i+1,i] = beta[i]\n",
    "\n",
    "    return T , v\n",
    "\n",
    "from scipy.linalg import eig, inv\n",
    "\n",
    "\n",
    "def diagonalizeT(T, beta):\n",
    "    eVa, eVe = eig(T)\n",
    "\n",
    "    D = np.zeros(np.shape(T))\n",
    "\n",
    "    np.fill_diagonal(D, np.exp(np.multiply(eVa.real, -beta/2)))\n",
    "\n",
    "    return D, eVe\n",
    "\n",
    "\n",
    "\n",
    "def realtimeEvolution(ham, beta, Lx,Ly,m,v0):\n",
    "    T , vTrans = wrapLancoz(csr_matrix(ham),Lx*Ly,m, v0)\n",
    "    vTrans = np.delete(vTrans, m, 0)\n",
    "\n",
    "    D, eVe = diagonalizeT(T, beta)\n",
    "\n",
    "\n",
    "    expBetaH = np.linalg.multi_dot ([np.transpose(vTrans),eVe,D,inv(eVe)])#([v,inv(eVe),D,eVe])\n",
    "    return np.matmul(expBetaH, [1] + [0]*(m-1))\n",
    "\n",
    "def norm(phi):\n",
    "    return np.vdot(phi,phi)"
   ]
  },
  {
   "cell_type": "code",
   "execution_count": 14,
   "metadata": {},
   "outputs": [
    {
     "name": "stdout",
     "output_type": "stream",
     "text": [
      "0 1\n",
      "1 1\n"
     ]
    },
    {
     "name": "stderr",
     "output_type": "stream",
     "text": [
      "/tmp/ipykernel_659/1131574923.py:109: ComplexWarning: Casting complex values to real discards the imaginary part\n",
      "  v[0] = v0\n"
     ]
    },
    {
     "name": "stdout",
     "output_type": "stream",
     "text": [
      "2 1\n"
     ]
    }
   ],
   "source": [
    "Lx = 2\n",
    "Ly = 3\n",
    "s = 0.5\n",
    "J = 1\n",
    "\n",
    "m = 200\n",
    "\n",
    "beta = 0.05\n",
    "Nbeta = 2# 300\n",
    "betas = np.arange(2*beta,beta*(Nbeta + 2),beta)\n",
    "\n",
    "\n",
    "ham = calcMatrix(genBasis(Lx*Ly,s),J,Lx,Ly,s)\n",
    "ham2 = np.matmul(ham,ham)\n",
    "\n",
    "Nsamples = 3\n",
    "\n",
    "Es = []\n",
    "E2s = []\n",
    "cVs = []\n",
    "\n",
    "for k in range(Nsamples):\n",
    "\n",
    "    phi = pullGaussWfFactors(0,1/(2**(Lx*Ly)),2**(Lx*Ly))\n",
    "\n",
    "\n",
    "    phiPrime = realtimeEvolution(ham, beta, Lx,Ly, m, phi)\n",
    "\n",
    "\n",
    "    E = []\n",
    "    E2 = []\n",
    "    cV = []\n",
    "    cV.append(betas[0]**2*(np.vdot(phiPrime, ham2.dot(phiPrime)) - np.vdot(phiPrime, ham.dot(phiPrime))**2))\n",
    "    for i in range(1, Nbeta):\n",
    "        print(k,i)\n",
    "        phiPrime = realtimeEvolution(ham, beta, Lx,Ly, m, phiPrime)\n",
    "\n",
    "\n",
    "    #print(np.vdot(phiPrime, ham2.dot(phiPrime)))\n",
    "\n",
    "    # print(beta**2*(np.vdot(phiPrime, ham2.dot(phiPrime)) - np.vdot(phiPrime, ham.dot(phiPrime))**2))\n",
    "        E.append(np.vdot(phiPrime, ham.dot(phiPrime))/norm(phiPrime))\n",
    "        E2.append(np.vdot(phiPrime, ham2.dot(phiPrime))/norm(phiPrime))\n",
    "        cV.append((betas[i]**2)*(np.vdot(phiPrime, ham2.dot(phiPrime))/norm(phiPrime) - (np.vdot(phiPrime, ham.dot(phiPrime))/norm(phiPrime))**2))\n",
    "\n",
    "        phiPrime = phiPrime / norm(phiPrime)\n",
    "\n",
    "    Es.append(E)\n",
    "    E2s.append(E2)\n",
    "    cVs.append(cV)\n"
   ]
  },
  {
   "cell_type": "code",
   "execution_count": 15,
   "metadata": {},
   "outputs": [
    {
     "name": "stderr",
     "output_type": "stream",
     "text": [
      "/home/moske/.local/lib/python3.8/site-packages/matplotlib/cbook/__init__.py:1298: ComplexWarning: Casting complex values to real discards the imaginary part\n",
      "  return np.asarray(x, float)\n"
     ]
    },
    {
     "data": {
      "image/png": "[encoded data removed]",
      "text/plain": [
       "<Figure size 432x288 with 1 Axes>"
      ]
     },
     "metadata": {
      "needs_background": "light"
     },
     "output_type": "display_data"
    },
    {
     "name": "stderr",
     "output_type": "stream",
     "text": [
      "/home/moske/.local/lib/python3.8/site-packages/matplotlib/cbook/__init__.py:1298: ComplexWarning: Casting complex values to real discards the imaginary part\n",
      "  return np.asarray(x, float)\n"
     ]
    },
    {
     "data": {
      "image/png": "[encoded data removed]",
      "text/plain": [
       "<Figure size 432x288 with 1 Axes>"
      ]
     },
     "metadata": {
      "needs_background": "light"
     },
     "output_type": "display_data"
    },
    {
     "name": "stderr",
     "output_type": "stream",
     "text": [
      "/home/moske/.local/lib/python3.8/site-packages/matplotlib/cbook/__init__.py:1298: ComplexWarning: Casting complex values to real discards the imaginary part\n",
      "  return np.asarray(x, float)\n"
     ]
    },
    {
     "data": {
      "image/png": "[encoded data removed]",
      "text/plain": [
       "<Figure size 432x288 with 1 Axes>"
      ]
     },
     "metadata": {
      "needs_background": "light"
     },
     "output_type": "display_data"
    }
   ],
   "source": [
    "import matplotlib.pyplot as plt\n",
    "plt.plot(np.mean(Es, axis = 0))\n",
    "plt.show()\n",
    "plt.plot(np.mean(E2s, axis = 0))\n",
    "plt.show()\n",
    "plt.plot(1/betas,np.mean(cVs, axis = 0))\n",
    "plt.show()"
   ]
  },
  {
   "cell_type": "markdown",
   "metadata": {},
   "source": [
    "The weird behavoir of the heat capacity comes from statistical divergins in the calculation. It appears in some of the times"
   ]
  },
  {
   "cell_type": "code",
   "execution_count": 16,
   "metadata": {},
   "outputs": [
    {
     "name": "stdout",
     "output_type": "stream",
     "text": [
      "2 1\n",
      "2 1\n",
      "2 1\n",
      "2 1\n",
      "2 1\n",
      "[[1.3026366959726392], [(0.6454884347838272+4.98477666404572e-35j)], [-2.010432524587455], [-0.7394390308195083], [0.4358161247431968]]\n"
     ]
    }
   ],
   "source": [
    "# spin\n",
    "m = 100\n",
    "splitBasis = splitBasisTotZ(genBasis(Lx*Ly,s),Lx,Ly)\n",
    "\n",
    "Es = []\n",
    "E2s = []\n",
    "cVs = []\n",
    "\n",
    "for basis in splitBasis:\n",
    "    ham = calcMatrix(basis,J,Lx,Ly,s)\n",
    "    # print(ham)\n",
    "\n",
    "    if np.shape(ham)[0] > 1:\n",
    "\n",
    "        ham2 = np.matmul(ham,ham)    \n",
    "        phi = pullGaussWfFactors(0,1/(np.shape(ham)[0]),np.shape(ham)[0])\n",
    "        # print(phi)\n",
    "\n",
    "        phiPrime = realtimeEvolution(ham, beta, Lx,Ly, np.shape(ham)[0], phi)\n",
    "\n",
    "        E = []\n",
    "        E2 = []\n",
    "        cV = []\n",
    "        cV.append(betas[0]**2*(np.vdot(phiPrime, ham2.dot(phiPrime)) - np.vdot(phiPrime, ham.dot(phiPrime))**2))\n",
    "        for i in range(1, Nbeta):\n",
    "            print(k,i)\n",
    "            phiPrime = realtimeEvolution(ham, beta, Lx,Ly, m, phiPrime)\n",
    "\n",
    "\n",
    "        #print(np.vdot(phiPrime, ham2.dot(phiPrime)))\n",
    "\n",
    "        # print(beta**2*(np.vdot(phiPrime, ham2.dot(phiPrime)) - np.vdot(phiPrime, ham.dot(phiPrime))**2))\n",
    "            E.append(np.vdot(phiPrime, ham.dot(phiPrime))/norm(phiPrime))\n",
    "            E2.append(np.vdot(phiPrime, ham2.dot(phiPrime))/norm(phiPrime))\n",
    "            cV.append((betas[i]**2)*(np.vdot(phiPrime, ham2.dot(phiPrime))/norm(phiPrime) - (np.vdot(phiPrime, ham.dot(phiPrime))/norm(phiPrime))**2))\n",
    "\n",
    "            phiPrime = phiPrime / norm(phiPrime)\n",
    "\n",
    "            # print(phiPrime)\n",
    "\n",
    "        Es.append(E)\n",
    "        E2s.append(E2)\n",
    "        cVs.append(cV)\n",
    "\n",
    "print(Es)\n",
    "\n",
    "# energie mit länge des spin sektors gewichten..."
   ]
  }
 ],
 "metadata": {
  "interpreter": {
   "hash": "916dbcbb3f70747c44a77c7bcd40155683ae19c65e1c03b4aa3499c5328201f1"
  },
  "kernelspec": {
   "display_name": "Python 3.8.10 64-bit",
   "language": "python",
   "name": "python3"
  },
  "language_info": {
   "codemirror_mode": {
    "name": "ipython",
    "version": 3
   },
   "file_extension": ".py",
   "mimetype": "text/x-python",
   "name": "python",
   "nbconvert_exporter": "python",
   "pygments_lexer": "ipython3",
   "version": "3.8.10"
  },
  "orig_nbformat": 4
 },
 "nbformat": 4,
 "nbformat_minor": 2
}
