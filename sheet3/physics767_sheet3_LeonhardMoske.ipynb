{
 "cells": [
  {
   "cell_type": "markdown",
   "metadata": {},
   "source": [
    "# Physics767 Execrcies sheet 2 Leonhard Moske\n",
    "\n",
    "## Exercise 8\n",
    "\n",
    "Show that the momentum states are eigenstates of the translation operator.\n",
    "\n",
    "$\n",
    "T \\ket{\\psi_{k,n}} = T \\frac{1}{\\mathcal{N}_{k,n}} \\sum_{r=1}^{L}e^{ikr}T^r\\ket{\\text{rep}(m_1,m_2,...m_L)}\n",
    "$\n",
    "\n",
    "$\n",
    "T \\ket{\\psi_{k,n}} =  \\frac{1}{\\mathcal{N}_{k,n}} \\sum_{r=1}^{L}e^{ikr}T^{r+1}\\ket{\\text{rep}(m_1,m_2,...m_L)}\n",
    "$\n",
    "\n",
    "$\n",
    "T \\ket{\\psi_{k,n}} = \\frac{1}{\\mathcal{N}_{k,n}} \\sum_{r=2}^{L+1}e^{ik(r-1)}T^r\\ket{\\text{rep}(m_1,m_2,...m_L)}\n",
    "$\n",
    "\n",
    "$\n",
    "T \\ket{\\psi_{k,n}} = \\frac{e^{-ik}}{\\mathcal{N}_{k,n}} \\sum_{r=2}^{L+1}e^{ikr}T^r\\ket{\\text{rep}(m_1,m_2,...m_L)}\n",
    "$\n",
    "\n",
    "take a look at the last term of the sum:\n",
    "$\n",
    "e^{ik(L+1)}T^{L+1}\n",
    "$\n",
    "\n",
    "$\n",
    "e^{ikL} = 1 \n",
    "$\n",
    "\n",
    "$\n",
    "T^L = \\mathcal{1}\n",
    "$\n",
    "so the last element can be shifted to the front\n",
    "\n",
    "$\n",
    "T \\ket{\\psi_{k,n}} = \\frac{e^{-ik}}{\\mathcal{N}_{k,n}} \\sum_{r=1}^{L}e^{ikr}T^r\\ket{\\text{rep}(m_1,m_2,...m_L)} = e^{-ik} \\ket{\\psi_{k,n}} \n",
    "$\n",
    "thus $\\ket{\\psi_{k,n}}$ is an eigenstate of $T$. "
   ]
  },
  {
   "cell_type": "markdown",
   "metadata": {},
   "source": [
    "## Exercise 9\n",
    "\n"
   ]
  },
  {
   "cell_type": "code",
   "execution_count": 1,
   "metadata": {},
   "outputs": [],
   "source": [
    "import numpy as np\n",
    "import itertools as it\n",
    "import sympy\n",
    "\n",
    "def genBasis(L, s): #L number of spins, s total spin\n",
    "    posSpins = np.linspace(-s, s, int((2*s+1)), dtype = float)#generate List of all possible z projections\n",
    "    #print(\"possible Spins \", posSpins)\n",
    "    tmp = it.product(posSpins, repeat = L) # generate object that itterates over all combinations\n",
    "    return np.asarray([i for i in tmp]) # assemble the list"
   ]
  },
  {
   "cell_type": "code",
   "execution_count": 2,
   "metadata": {},
   "outputs": [],
   "source": [
    "def Splus(oldcoef, state, site, s): # site counted from 0 , passed with copy\n",
    "                        # return new coefficient and new state \n",
    "    if (state[site] >= s): # if state is s the operator will return 0\n",
    "        return 0, np.zeros(L)\n",
    "    coef = np.sqrt(s*(s+1) - state[site] * (state[site] + 1)) #calculate new coef\n",
    "    state[site] = state[site] + 1 # update spin state\n",
    "    return coef*oldcoef, state \n",
    "\n",
    "def Sminus(oldcoef, state, site, s): # analog to Splus\n",
    "    if (state[site] <= -s ):\n",
    "        return 0, np.zeros(L)\n",
    "    coef = np.sqrt(s*(s+1) - state[site] * (state[site] - 1))\n",
    "    state[site] = state[site] - 1\n",
    "    return coef*oldcoef, state \n",
    "\n",
    "def Sz(coef, state, site): \n",
    "    return state[site]*coef, state\n",
    "\n",
    "def Hamiltonian(J, statei, L, statej, s):\n",
    "    H = 0\n",
    "    for i in range(L-1): #apply the operators to every site until L-1\n",
    "        coef1, state1 = Splus(*Sminus(1, np.copy(statei), i+1, s), i, s)\n",
    "        coef2, state2 = Sminus(*Splus(1, np.copy(statei), i+1, s), i, s)\n",
    "        coef3, state3 = Sz(*Sz(1, np.copy(statei), i+1), i)\n",
    "        if np.array_equal(state1, statej): #compare if (<i|H)|j> is 0 for every term\n",
    "            H += coef1*J*0.5\n",
    "        if np.array_equal(state2, statej):\n",
    "            H += coef2*J*0.5\n",
    "        if np.array_equal(state3, statej):\n",
    "            H += coef3 * J\n",
    "    return H\n",
    "\n",
    "def calcMatrix(Basis, J, L, s):# calculate the basis by calculating the hamiltonian with all combination from the basis\n",
    "    Matrix = np.empty((len(Basis),len(Basis)))\n",
    "    for i, j in it.product(range(len(Basis)), repeat=2):\n",
    "        Matrix[i,j] = Hamiltonian(J, Basis[i], L, Basis[j], s)\n",
    "    return Matrix\n"
   ]
  },
  {
   "cell_type": "code",
   "execution_count": 3,
   "metadata": {},
   "outputs": [],
   "source": [
    "def totalZ(state, L):\n",
    "    totalZ = 0\n",
    "    for i in range(L):\n",
    "        totalZ += Sz(1, state, i)[0]\n",
    "    return totalZ\n",
    "\n",
    "def totalZmatrix(Basis, L):# calculate the basis by calculating the hamiltonian with all combination from the basis\n",
    "    Matrix = np.zeros((len(Basis),len(Basis))) # since we know that the basisstates are eigenstates of totalZ we only have to compute the diagonal \n",
    "    for i in range(len(Basis)):\n",
    "        Matrix[i,i] = totalZ(Basis[i], L)\n",
    "    return Matrix\n",
    "\n",
    "def splitBasisTotZ(Basis, L):\n",
    "    splitBasis= []\n",
    "    sortedBasis = sorted(Basis, key = lambda state : (totalZ(state, L)))\n",
    "    tmpBasis = []\n",
    "    oldz = totalZ(sortedBasis[0],L)\n",
    "    for state in sortedBasis:\n",
    "        z = totalZ(state, L)\n",
    "        if z != oldz:\n",
    "            splitBasis.append(tmpBasis)\n",
    "            tmpBasis = [state]\n",
    "            oldz = z\n",
    "        else:\n",
    "            tmpBasis.append(state)\n",
    "            oldz = z\n",
    "    splitBasis.append(tmpBasis)  \n",
    "    return splitBasis\n",
    "\n",
    "def inversionOperator(state):\n",
    "    return np.flip(state)\n",
    "\n",
    "def inversionMatrix(Basis): \n",
    "    Matrix = np.empty((len(Basis), len(Basis)))\n",
    "    for i in range(len(Basis)):\n",
    "        for k in range(len(Basis)):\n",
    "            if (np.array_equal(Basis[i], inversionOperator(np.copy(Basis[k])))):\n",
    "                Matrix[i,k] = 1\n",
    "            else:\n",
    "                Matrix[i,k] = 0\n",
    "    return Matrix\n",
    "\n",
    "def genFamily(state, operator, L): # generate the family of a state with an operator\n",
    "    \"\"\"generate the family of a state with an operator\"\"\"\n",
    "    family = np.asarray([state])\n",
    "    for r in range(L):\n",
    "        family = np.append(family, [operator(family[-1])], axis=0)\n",
    "    return np.unique(family,axis=0)\n",
    "\n",
    "def getRepresentativ(state, operator, L): # the representativ is the first entry in the sortet family\n",
    "    tmp = genFamily(state,operator, L)\n",
    "    for i in range(L):\n",
    "       tmp = tmp[tmp[:,i].argsort()]\n",
    "    return tmp[0]\n",
    "\n",
    "def computeNormalization(state, k, operator): #k in multiple of pi\n",
    "    #check if k*familysize is 2*z where z is whole number\n",
    "    fn = len(genFamily(state, operator, L))\n",
    "    if((fn*k)%2 == 0): # check if state is normalizable\n",
    "        if (np.all(np.equal(state , operator(state)))):\n",
    "            return 2\n",
    "        else: \n",
    "            return np.sqrt(fn) \n",
    "    else:\n",
    "        return 0\n",
    "\n",
    "def allRepresentatives(basis, operator, L):\n",
    "    return np.unique([getRepresentativ(state, operator, L) for state in basis], axis = 0)\n",
    "\n",
    "def calcMatrixInversionsymmetrie(basis, J, L, s, operator ,k):\n",
    "    representatives = allRepresentatives(basis, operator, L)\n",
    "    normalizable = np.empty((0,L)) # get number of states\n",
    "    for rep in representatives:\n",
    "        if(computeNormalization(rep, k, operator) != 0):\n",
    "            normalizable = np.append(normalizable, [rep], axis = 0)\n",
    "    Matrix = np.empty((len(normalizable),len(normalizable)))\n",
    "    for i, j in it.product(range(len(normalizable)), repeat=2):\n",
    "        Matrix[i,j] =  2*( Hamiltonian(J, normalizable[i], L, normalizable[j], s) /\n",
    "                        (computeNormalization(normalizable[i], k, operator) *computeNormalization(normalizable[j], k, operator)))\n",
    "        Matrix[i,j] +=  2*np.exp(np.pi*k*1j)*(Hamiltonian(J, normalizable[i], L, operator(normalizable[j]), s)  / \n",
    "                        (computeNormalization(normalizable[i], k, operator) *computeNormalization(normalizable[j], k, operator)))\n",
    "    return Matrix\n"
   ]
  },
  {
   "cell_type": "code",
   "execution_count": 4,
   "metadata": {},
   "outputs": [
    {
     "name": "stdout",
     "output_type": "stream",
     "text": [
      "[[-0.5 -0.5 -0.5 -0.5]\n",
      " [-0.5  0.5 -0.5 -0.5]\n",
      " [-0.5  0.5  0.5 -0.5]\n",
      " [ 0.5 -0.5 -0.5 -0.5]\n",
      " [ 0.5 -0.5 -0.5  0.5]\n",
      " [ 0.5 -0.5  0.5 -0.5]\n",
      " [ 0.5  0.5 -0.5 -0.5]\n",
      " [ 0.5  0.5 -0.5  0.5]\n",
      " [ 0.5  0.5  0.5 -0.5]\n",
      " [ 0.5  0.5  0.5  0.5]]\n"
     ]
    }
   ],
   "source": [
    "import sympy\n",
    "\n",
    "L = 4\n",
    "J = 1\n",
    "s = 0.5\n",
    "\n",
    "repr0 = np.empty((0,L))\n",
    "\n",
    "for state in genBasis(L, s):\n",
    "    repr0 = np.append(repr0, [getRepresentativ(state, inversionOperator,L)], axis = 0)\n",
    "\n",
    "print(allRepresentatives(genBasis(L,s), inversionOperator, L))"
   ]
  },
  {
   "cell_type": "code",
   "execution_count": 5,
   "metadata": {},
   "outputs": [
    {
     "name": "stdout",
     "output_type": "stream",
     "text": [
      "counts [-0.5 -0.5 -0.5 -0.5] 0 2\n",
      "norm 0 [-0.5 -0.5 -0.5 -0.5]\n",
      "counts [-0.5  0.5 -0.5 -0.5] 0 1.4142135623730951\n",
      "counts [-0.5  0.5 -0.5 -0.5] 1 1.4142135623730951\n",
      "counts [-0.5  0.5  0.5 -0.5] 0 2\n",
      "norm 0 [-0.5  0.5  0.5 -0.5]\n",
      "counts [ 0.5 -0.5 -0.5 -0.5] 0 1.4142135623730951\n",
      "counts [ 0.5 -0.5 -0.5 -0.5] 1 1.4142135623730951\n",
      "counts [ 0.5 -0.5 -0.5  0.5] 0 2\n",
      "norm 0 [ 0.5 -0.5 -0.5  0.5]\n",
      "counts [ 0.5 -0.5  0.5 -0.5] 0 1.4142135623730951\n",
      "counts [ 0.5 -0.5  0.5 -0.5] 1 1.4142135623730951\n",
      "counts [ 0.5  0.5 -0.5 -0.5] 0 1.4142135623730951\n",
      "counts [ 0.5  0.5 -0.5 -0.5] 1 1.4142135623730951\n",
      "counts [ 0.5  0.5 -0.5  0.5] 0 1.4142135623730951\n",
      "counts [ 0.5  0.5 -0.5  0.5] 1 1.4142135623730951\n",
      "counts [ 0.5  0.5  0.5 -0.5] 0 1.4142135623730951\n",
      "counts [ 0.5  0.5  0.5 -0.5] 1 1.4142135623730951\n",
      "counts [0.5 0.5 0.5 0.5] 0 2\n",
      "norm 0 [0.5 0.5 0.5 0.5]\n"
     ]
    }
   ],
   "source": [
    "repr1 = np.empty((0,L))\n",
    "\n",
    "for rep in np.unique(repr0,axis = 0):\n",
    "    for k in [0,1]:\n",
    "        if(computeNormalization(rep, k,inversionOperator) != 0):\n",
    "            print(\"counts\", rep, k, computeNormalization(rep, k, inversionOperator))\n",
    "            repr1 = np.append(repr1, [getRepresentativ(rep, inversionOperator,L)], axis = 0)\n",
    "        else:\n",
    "            print(\"norm 0\",rep)"
   ]
  },
  {
   "cell_type": "code",
   "execution_count": 6,
   "metadata": {},
   "outputs": [
    {
     "name": "stdout",
     "output_type": "stream",
     "text": [
      "[[-0.75  0.5   0.    0.    0.    0.  ]\n",
      " [ 0.5   0.25  0.    0.    0.    0.  ]\n",
      " [ 0.    0.   -0.75  0.5   0.    0.  ]\n",
      " [ 0.    0.    0.5   0.25  0.    0.  ]\n",
      " [ 0.    0.    0.    0.   -0.75  0.5 ]\n",
      " [ 0.    0.    0.    0.    0.5   0.25]]\n",
      "[-0.95710678  0.45710678 -0.95710678  0.45710678 -0.95710678  0.45710678]\n"
     ]
    },
    {
     "name": "stderr",
     "output_type": "stream",
     "text": [
      "/tmp/ipykernel_8387/1177628638.py:80: ComplexWarning: Casting complex values to real discards the imaginary part\n",
      "  Matrix[i,j] +=  2*np.exp(np.pi*k*1j)*(Hamiltonian(J, normalizable[i], L, operator(normalizable[j]), s)  /\n"
     ]
    }
   ],
   "source": [
    "print(calcMatrixInversionsymmetrie(genBasis(L,s), J, L, s, inversionOperator, 1))\n",
    "print(np.linalg.eigvals(calcMatrixInversionsymmetrie(genBasis(L,s), J, L, s, inversionOperator, 1)))"
   ]
  },
  {
   "cell_type": "code",
   "execution_count": 7,
   "metadata": {},
   "outputs": [
    {
     "name": "stderr",
     "output_type": "stream",
     "text": [
      "/tmp/ipykernel_8387/1177628638.py:80: ComplexWarning: Casting complex values to real discards the imaginary part\n",
      "  Matrix[i,j] +=  2*np.exp(np.pi*k*1j)*(Hamiltonian(J, normalizable[i], L, operator(normalizable[j]), s)  /\n"
     ]
    },
    {
     "name": "stdout",
     "output_type": "stream",
     "text": [
      "[[ 0.75        0.          0.          0.          0.          0.\n",
      "   0.          0.          0.          0.        ]\n",
      " [ 0.          0.25        0.          0.5         0.          0.\n",
      "   0.          0.          0.          0.        ]\n",
      " [ 0.          0.         -0.25        0.          0.          0.70710678\n",
      "   0.          0.          0.          0.        ]\n",
      " [ 0.          0.5         0.          0.25        0.          0.\n",
      "   0.          0.          0.          0.        ]\n",
      " [ 0.          0.          0.          0.         -0.25        0.70710678\n",
      "   0.          0.          0.          0.        ]\n",
      " [ 0.          0.          0.70710678  0.          0.70710678 -0.75\n",
      "   0.5         0.          0.          0.        ]\n",
      " [ 0.          0.          0.          0.          0.          0.5\n",
      "   0.25        0.          0.          0.        ]\n",
      " [ 0.          0.          0.          0.          0.          0.\n",
      "   0.          0.25        0.5         0.        ]\n",
      " [ 0.          0.          0.          0.          0.          0.\n",
      "   0.          0.5         0.25        0.        ]\n",
      " [ 0.          0.          0.          0.          0.          0.\n",
      "   0.          0.          0.          0.75      ]]\n",
      "[ 0.75      -0.25      -1.6160254  0.75      -0.25       0.1160254\n",
      " -0.25       0.75       0.75       0.75     ]\n"
     ]
    }
   ],
   "source": [
    "print(calcMatrixInversionsymmetrie(genBasis(L,s), J, L, s, inversionOperator, 0))\n",
    "print(np.linalg.eigvals(calcMatrixInversionsymmetrie(genBasis(L,s), J, L, s, inversionOperator, 0)))"
   ]
  },
  {
   "cell_type": "markdown",
   "metadata": {},
   "source": [
    "Show numerically that the inversion operator commutes with the hamiltonian "
   ]
  },
  {
   "cell_type": "code",
   "execution_count": 8,
   "metadata": {},
   "outputs": [
    {
     "data": {
      "text/latex": [
       "$\\displaystyle \\left[\\begin{array}{cccccccccccccccc}0 & 0 & 0 & 0 & 0 & 0 & 0 & 0 & 0 & 0 & 0 & 0 & 0 & 0 & 0 & 0\\\\0 & 0 & 0 & 0 & 0 & 0 & 0 & 0 & 0 & 0 & 0 & 0 & 0 & 0 & 0 & 0\\\\0 & 0 & 0 & 0 & 0 & 0 & 0 & 0 & 0 & 0 & 0 & 0 & 0 & 0 & 0 & 0\\\\0 & 0 & 0 & 0 & 0 & 0 & 0 & 0 & 0 & 0 & 0 & 0 & 0 & 0 & 0 & 0\\\\0 & 0 & 0 & 0 & 0 & 0 & 0 & 0 & 0 & 0 & 0 & 0 & 0 & 0 & 0 & 0\\\\0 & 0 & 0 & 0 & 0 & 0 & 0 & 0 & 0 & 0 & 0 & 0 & 0 & 0 & 0 & 0\\\\0 & 0 & 0 & 0 & 0 & 0 & 0 & 0 & 0 & 0 & 0 & 0 & 0 & 0 & 0 & 0\\\\0 & 0 & 0 & 0 & 0 & 0 & 0 & 0 & 0 & 0 & 0 & 0 & 0 & 0 & 0 & 0\\\\0 & 0 & 0 & 0 & 0 & 0 & 0 & 0 & 0 & 0 & 0 & 0 & 0 & 0 & 0 & 0\\\\0 & 0 & 0 & 0 & 0 & 0 & 0 & 0 & 0 & 0 & 0 & 0 & 0 & 0 & 0 & 0\\\\0 & 0 & 0 & 0 & 0 & 0 & 0 & 0 & 0 & 0 & 0 & 0 & 0 & 0 & 0 & 0\\\\0 & 0 & 0 & 0 & 0 & 0 & 0 & 0 & 0 & 0 & 0 & 0 & 0 & 0 & 0 & 0\\\\0 & 0 & 0 & 0 & 0 & 0 & 0 & 0 & 0 & 0 & 0 & 0 & 0 & 0 & 0 & 0\\\\0 & 0 & 0 & 0 & 0 & 0 & 0 & 0 & 0 & 0 & 0 & 0 & 0 & 0 & 0 & 0\\\\0 & 0 & 0 & 0 & 0 & 0 & 0 & 0 & 0 & 0 & 0 & 0 & 0 & 0 & 0 & 0\\\\0 & 0 & 0 & 0 & 0 & 0 & 0 & 0 & 0 & 0 & 0 & 0 & 0 & 0 & 0 & 0\\end{array}\\right]$"
      ],
      "text/plain": [
       "Matrix([\n",
       "[0, 0, 0, 0, 0, 0, 0, 0, 0, 0, 0, 0, 0, 0, 0, 0],\n",
       "[0, 0, 0, 0, 0, 0, 0, 0, 0, 0, 0, 0, 0, 0, 0, 0],\n",
       "[0, 0, 0, 0, 0, 0, 0, 0, 0, 0, 0, 0, 0, 0, 0, 0],\n",
       "[0, 0, 0, 0, 0, 0, 0, 0, 0, 0, 0, 0, 0, 0, 0, 0],\n",
       "[0, 0, 0, 0, 0, 0, 0, 0, 0, 0, 0, 0, 0, 0, 0, 0],\n",
       "[0, 0, 0, 0, 0, 0, 0, 0, 0, 0, 0, 0, 0, 0, 0, 0],\n",
       "[0, 0, 0, 0, 0, 0, 0, 0, 0, 0, 0, 0, 0, 0, 0, 0],\n",
       "[0, 0, 0, 0, 0, 0, 0, 0, 0, 0, 0, 0, 0, 0, 0, 0],\n",
       "[0, 0, 0, 0, 0, 0, 0, 0, 0, 0, 0, 0, 0, 0, 0, 0],\n",
       "[0, 0, 0, 0, 0, 0, 0, 0, 0, 0, 0, 0, 0, 0, 0, 0],\n",
       "[0, 0, 0, 0, 0, 0, 0, 0, 0, 0, 0, 0, 0, 0, 0, 0],\n",
       "[0, 0, 0, 0, 0, 0, 0, 0, 0, 0, 0, 0, 0, 0, 0, 0],\n",
       "[0, 0, 0, 0, 0, 0, 0, 0, 0, 0, 0, 0, 0, 0, 0, 0],\n",
       "[0, 0, 0, 0, 0, 0, 0, 0, 0, 0, 0, 0, 0, 0, 0, 0],\n",
       "[0, 0, 0, 0, 0, 0, 0, 0, 0, 0, 0, 0, 0, 0, 0, 0],\n",
       "[0, 0, 0, 0, 0, 0, 0, 0, 0, 0, 0, 0, 0, 0, 0, 0]])"
      ]
     },
     "execution_count": 8,
     "metadata": {},
     "output_type": "execute_result"
    }
   ],
   "source": [
    "import sympy\n",
    "\n",
    "iMatrix = inversionMatrix(genBasis(L, s))\n",
    "hMatrix = calcMatrix(genBasis(L,s),J,L,s)\n",
    "\n",
    "sympy.Matrix(np.matmul(iMatrix, hMatrix) - np.matmul(hMatrix, iMatrix))"
   ]
  },
  {
   "cell_type": "code",
   "execution_count": 9,
   "metadata": {},
   "outputs": [
    {
     "name": "stderr",
     "output_type": "stream",
     "text": [
      "/tmp/ipykernel_8387/1177628638.py:80: ComplexWarning: Casting complex values to real discards the imaginary part\n",
      "  Matrix[i,j] +=  2*np.exp(np.pi*k*1j)*(Hamiltonian(J, normalizable[i], L, operator(normalizable[j]), s)  /\n",
      "/usr/lib/python3.10/site-packages/matplotlib/collections.py:200: ComplexWarning: Casting complex values to real discards the imaginary part\n",
      "  offsets = np.asanyarray(offsets, float)\n"
     ]
    },
    {
     "data": {
      "image/png": "[encoded data removed]",
      "text/plain": [
       "<Figure size 432x288 with 1 Axes>"
      ]
     },
     "metadata": {
      "needs_background": "light"
     },
     "output_type": "display_data"
    }
   ],
   "source": [
    "from timeit import default_timer as timer\n",
    "import matplotlib.pyplot as plt\n",
    "J = 1\n",
    "s = 0.5\n",
    "\n",
    "n = 8\n",
    "\n",
    "measureTime = []\n",
    "times = []\n",
    "Length = []\n",
    "\n",
    "ks = [0,1] \n",
    "\n",
    "for L in range(1,n+1):\n",
    "    start = timer()\n",
    "    Basis = genBasis(L,s)\n",
    "    allEvalues = []\n",
    "    for k in ks:\n",
    "        matrix = calcMatrixInversionsymmetrie(Basis, J, L, s, inversionOperator, k)\n",
    "        Evalues = np.linalg.eigvals(matrix)\n",
    "        allEvalues = np.append(allEvalues, Evalues, axis = 0)\n",
    "    if len(allEvalues) >= 4: # print the lowest 4 Eigenvalues\n",
    "        plt.scatter([1/L]*4, np.sort(allEvalues)[:4], color = \"blue\")\n",
    "    else:\n",
    "        plt.scatter([1/L]*len(allEvalues), np.sort(allEvalues), color = \"blue\")\n",
    "    times.append(timer() - start)\n",
    "    Length.append(L)\n",
    "\n",
    "\n",
    "measureTime.append([Length, times])\n",
    "times = []\n",
    "Length = []\n",
    "\n",
    "plt.title(f\"lowest 4 Eigenvalues of a {s}-Spin system in the Heisenberg model with eigenbasis of the inversion operator\")\n",
    "plt.xlabel(r\"$\\frac{1}{L}$\", fontsize = 15)\n",
    "plt.ylabel(\"Eigenvalue\", fontsize = 15)\n",
    "plt.grid()\n",
    "plt.show()\n"
   ]
  },
  {
   "cell_type": "markdown",
   "metadata": {},
   "source": [
    "## Exercise 10"
   ]
  },
  {
   "cell_type": "code",
   "execution_count": 10,
   "metadata": {},
   "outputs": [
    {
     "name": "stderr",
     "output_type": "stream",
     "text": [
      "/tmp/ipykernel_8387/1177628638.py:80: ComplexWarning: Casting complex values to real discards the imaginary part\n",
      "  Matrix[i,j] +=  2*np.exp(np.pi*k*1j)*(Hamiltonian(J, normalizable[i], L, operator(normalizable[j]), s)  /\n"
     ]
    },
    {
     "data": {
      "image/png": "[encoded data removed]",
      "text/plain": [
       "<Figure size 432x288 with 1 Axes>"
      ]
     },
     "metadata": {
      "needs_background": "light"
     },
     "output_type": "display_data"
    }
   ],
   "source": [
    "\n",
    "n = n + 1\n",
    "\n",
    "for L in range(1,n+1):\n",
    "    start = timer()\n",
    "    splitBasis = splitBasisTotZ(genBasis(L,s),L)\n",
    "    allEvalues = []\n",
    "    for basis in splitBasis:\n",
    "        for k in ks:\n",
    "            matrix = calcMatrixInversionsymmetrie(basis, J, L, s, inversionOperator, k)\n",
    "            Evalues = np.linalg.eigvals(matrix)\n",
    "            allEvalues = np.append(allEvalues, Evalues, axis = 0)\n",
    "    if len(allEvalues) >= 4: # print the lowest 4 Eigenvalues\n",
    "        plt.scatter([1/L]*4, np.sort(allEvalues)[:4], color = \"blue\")\n",
    "    else:\n",
    "        plt.scatter([1/L]*len(allEvalues), np.sort(allEvalues), color = \"blue\")\n",
    "    times.append(timer() - start)\n",
    "    Length.append(L)\n",
    "\n",
    "measureTime.append([Length, times])\n",
    "times = []\n",
    "Length = []\n",
    "\n",
    "plt.title(f\"lowest 4 Eigenvalues of a {s}-Spin system in the Heisenberg model with eigenbasis of the inversion operator split into blocks of total spin\")\n",
    "plt.xlabel(r\"$\\frac{1}{L}$\", fontsize = 15)\n",
    "plt.ylabel(\"Eigenvalue\", fontsize = 15)\n",
    "plt.grid()\n",
    "plt.show()"
   ]
  }
 ],
 "metadata": {
  "interpreter": {
   "hash": "916dbcbb3f70747c44a77c7bcd40155683ae19c65e1c03b4aa3499c5328201f1"
  },
  "kernelspec": {
   "display_name": "Python 3.8.10 64-bit",
   "language": "python",
   "name": "python3"
  },
  "language_info": {
   "codemirror_mode": {
    "name": "ipython",
    "version": 3
   },
   "file_extension": ".py",
   "mimetype": "text/x-python",
   "name": "python",
   "nbconvert_exporter": "python",
   "pygments_lexer": "ipython3",
   "version": "3.10.4"
  },
  "orig_nbformat": 4
 },
 "nbformat": 4,
 "nbformat_minor": 2
}
