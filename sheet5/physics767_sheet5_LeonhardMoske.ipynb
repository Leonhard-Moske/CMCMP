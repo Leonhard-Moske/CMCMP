{
 "cells": [
  {
   "cell_type": "markdown",
   "metadata": {},
   "source": [
    "# Sheet5 Leonhard Moske\n"
   ]
  },
  {
   "cell_type": "code",
   "execution_count": 1,
   "metadata": {},
   "outputs": [],
   "source": [
    "import numpy as np\n",
    "import itertools as it\n",
    "import sympy\n",
    "\n",
    "def genBasis(L, s): #L number of spins, s total spin\n",
    "    posSpins = np.linspace(-s, s, int((2*s+1)), dtype = float)#generate List of all possible z projections\n",
    "    #print(\"possible Spins \", posSpins)\n",
    "    tmp = it.product(posSpins, repeat = L) # generate object that itterates over all combinations\n",
    "    return np.asarray([i for i in tmp]) # assemble the list\n",
    "\n",
    "def Splus(oldcoef, state, site): # site counted from 0 , passed with copy\n",
    "                        # return new coefficient and new state \n",
    "    if (state[site] == 0.5): #s): # if state is s the operator will return 0\n",
    "        return 0, np.zeros(L)\n",
    "    # coef = 1  #s = 1/2 #coef = np.sqrt(s*(s+1) - state[site] * (state[site] + 1)) #calculate new coef\n",
    "    state[site] = 0.5 #state[site] + 1 # update spin state\n",
    "    return oldcoef, state \n",
    "\n",
    "def Sminus(oldcoef, state, site): # analog to Splus\n",
    "    if (state[site] == -0.5): # -s ):\n",
    "        return 0, np.zeros(L)\n",
    "    # coef = 1 #coef = np.sqrt(s*(s+1) - state[site] * (state[site] - 1))\n",
    "    state[site] = -0.5 # state[site] - 1\n",
    "    return oldcoef, state #coef*oldcoef \n",
    "\n",
    "def Sz(coef, state, site): \n",
    "    return state[site]*coef, state\n",
    "\n",
    "def Hamiltonian(J, statei, L, statej, s):\n",
    "    H = 0\n",
    "    # if (np.array_equal(statei, statej)): # is in HamiltonianDiag\n",
    "    #     for i in range(L):\n",
    "    #         H += statei[i]*statei[(i+1)%L] * J\n",
    "            #H += Sz(*Sz(1, np.copy(statei), (i+1)%L), i)[0] * J\n",
    "    for i in range(L): #apply the operators to every site until L-1\n",
    "        coef1, state1 = Splus(*Sminus(1, np.copy(statei),(i+1)%L), i)\n",
    "        coef2, state2 = Sminus(*Splus(1, np.copy(statei), (i+1)%L), i)\n",
    "        #coef3, state3 = Sz(*Sz(1, np.copy(statei), i+1), i)\n",
    "        if np.array_equal(state1, statej): #compare if (<i|H)|j> is 0 for every term\n",
    "            H += coef1*J*0.5\n",
    "        if np.array_equal(state2, statej):\n",
    "            H += coef2*J*0.5\n",
    "        #if np.array_equal(state3, statej):\n",
    "        #    H += coef3 * J\n",
    "    return H\n",
    "\n",
    "def HamiltonianDiag(J, statei, L):\n",
    "    H = 0\n",
    "    for i in range(L):\n",
    "        H += statei[i]*statei[(i+1)%L] * J\n",
    "    return H\n",
    "\n",
    "\n",
    "def calcMatrix(Basis, J, L, s):# calculate the basis by calculating the hamiltonian with all combination from the basis\n",
    "    Matrix = np.empty((len(Basis),len(Basis)))\n",
    "    for i in range(len(Basis)):\n",
    "        Matrix[i,i] = HamiltonianDiag(J, Basis[i], L)\n",
    "    for i, j in it.permutations(range(len(Basis)), 2):\n",
    "        Matrix[i,j] = Hamiltonian(J, Basis[i], L, Basis[j], s)\n",
    "    return Matrix \n",
    "\n",
    "\n",
    "def totalZ(state, L):\n",
    "    totalZ = 0\n",
    "    for i in range(L):\n",
    "        totalZ += Sz(1, state, i)[0]\n",
    "    return totalZ\n",
    "\n",
    "def splitBasisTotZ(Basis, L):\n",
    "    splitBasis= []\n",
    "    stot = []\n",
    "    sortedBasis = sorted(Basis, key = lambda state : (totalZ(state, L)))\n",
    "    tmpBasis = []\n",
    "    oldz = totalZ(sortedBasis[0],L)\n",
    "    for state in sortedBasis:\n",
    "        z = totalZ(state, L)\n",
    "        if z != oldz:\n",
    "            splitBasis.append(tmpBasis)\n",
    "            stot.append(totalZ(state, L))\n",
    "            tmpBasis = [state]\n",
    "            oldz = z\n",
    "        else:\n",
    "            tmpBasis.append(state)\n",
    "            oldz = z\n",
    "    splitBasis.append(tmpBasis)\n",
    "    stot.append(totalZ(state, L))\n",
    "    return splitBasis, stot\n",
    "\n",
    "def totalZmatrix(Basis, L):# calculate the basis by calculating the hamiltonian with all combination from the basis\n",
    "    Matrix = np.zeros((len(Basis),len(Basis))) # since we know that the basisstates are eigenstates of totalZ we only have to compute the diagonal \n",
    "    for i in range(len(Basis)):\n",
    "        Matrix[i,i] = totalZ(Basis[i], L)\n",
    "    return Matrix\n",
    "\n",
    "def transition(state): # numpy array\n",
    "    newState = np.roll(state,1)\n",
    "    return newState\n",
    "\n",
    "def genFamily(state, operator, L): # generate the family of a state with an operator\n",
    "    \"\"\"generate the family of a state with an operator\"\"\"\n",
    "    family = np.asarray([state])\n",
    "    for r in range(1,L):\n",
    "        family = np.append(family, [operator(family[-1])], axis=0)\n",
    "    return family\n",
    "\n",
    "def get_representativ(state, operator, L):\n",
    "    family = genFamily(state, operator, L)\n",
    "    tmp = np.copy(family)\n",
    "    for i in range(len(family[0])): # over the length of the states\n",
    "       family = family[family[:,i].argsort()]\n",
    "    for i, s in enumerate(tmp):\n",
    "        if np.all(s == family[0] ):\n",
    "            return family[0] ,i\n",
    "    return family[0] \n",
    "\n",
    "def get_norm(state, nk,operator, L ):\n",
    "    k=2.*np.pi*nk/L\n",
    "    fam = genFamily(state,operator,L)\n",
    "\n",
    "    different_states = set()\n",
    "    for s in fam:\n",
    "        different_states.add(tuple(s))\n",
    "    \n",
    "    prefactors = {s:0.0 for s in different_states}\n",
    "    \n",
    "    for r, s, in enumerate(fam):\n",
    "        prefactors[tuple(s)] += np.exp(1.j*k*r)\n",
    "    \n",
    "    norm = 0.0\n",
    "    for s in prefactors:\n",
    "        norm += np.abs( prefactors[s] )**2\n",
    "        \n",
    "    return np.sqrt(norm)\n",
    "\n",
    "def calcHam(basis, L,operator):\n",
    "    hamils = []\n",
    "    reps={}\n",
    "\n",
    "    # Create set of representative states, including family size\n",
    "    for s in basis:\n",
    "        rep,fam = get_representativ(s,operator,L)[0], genFamily(s,operator,L)[0]\n",
    "        reps[tuple(rep)] = len(np.unique(fam, axis = 0))\n",
    "\n",
    "    dim_sum=0\n",
    "\n",
    "    for nk in range(L):\n",
    "        nk = nk  # momentum sector\n",
    "        k=2.*np.pi*nk/L\n",
    "        sector_reps={}\n",
    "        \n",
    "        index = 0\n",
    "        for rep in reps.keys():\n",
    "            norm = get_norm(rep,nk, operator, L)\n",
    "            if abs(norm)>1e-6:\n",
    "                sector_reps[tuple(rep)] = (norm, index) # for each representative state, we need to get the norm of its corresponding momentum state, and its index in our basis order\n",
    "                index+=1\n",
    "        dim=len(list(sector_reps))\n",
    "        dim_sum+=dim\n",
    "        \n",
    "        #print(\"Got momentum sector nk={} of size {}\".format(nk, dim))\n",
    "        \n",
    "        Hk = np.zeros( (dim,dim) , dtype=np.complex128 )\n",
    "        for rep in sector_reps.keys():\n",
    "            \n",
    "            norm, index = sector_reps[rep]\n",
    "            matel=0.0\n",
    "            ## diagonal terms\n",
    "            for site in range(L):\n",
    "                matel+=rep[site]*rep[(site+1)%L]\n",
    "            Hk[index,index]=matel\n",
    "                    \n",
    "            # offdiagonal matrix elements\n",
    "            for site in range(L):\n",
    "                if rep[site]!=rep[(site+1)%L]:\n",
    "                    state2=list(rep)\n",
    "                    state2[site], state2[(site+1)%L] =  state2[(site+1)%L], state2[site]\n",
    "                    rep2, num_translations_to_get_rep = get_representativ(state2, operator, L)\n",
    "                    #print(state2,rep2)\n",
    "                    \n",
    "                    if tuple(rep2) in sector_reps:\n",
    "                        norm2, idx2 = sector_reps[tuple(rep2)]\n",
    "                        matel = 0.5*norm2/norm*np.exp(-1.j*k*num_translations_to_get_rep)\n",
    "                        Hk[index,idx2]+=matel\n",
    "        hamils.append(Hk)\n",
    "    return hamils\n",
    "    "
   ]
  },
  {
   "cell_type": "markdown",
   "metadata": {},
   "source": [
    "## Some sanity checks"
   ]
  },
  {
   "cell_type": "code",
   "execution_count": 2,
   "metadata": {},
   "outputs": [
    {
     "name": "stdout",
     "output_type": "stream",
     "text": [
      "(1, array([-0.5,  0.5, -0.5,  0.5, -0.5, -0.5,  0.5]))\n",
      "[-0.5 -0.5 -0.5  0.5 -0.5 -0.5  0.5] 128\n",
      "[ 0.5 -0.5 -0.5 -0.5  0.5 -0.5 -0.5]\n"
     ]
    }
   ],
   "source": [
    "testindex = 9\n",
    "\n",
    "L = 7\n",
    "\n",
    "a = genBasis(L,0.5)\n",
    "print(Splus(1,np.copy(a[testindex]), 1))\n",
    "print(a[testindex], len(a))\n",
    "\n",
    "print(transition(a[testindex]))\n",
    "\n"
   ]
  },
  {
   "cell_type": "code",
   "execution_count": 3,
   "metadata": {},
   "outputs": [
    {
     "name": "stdout",
     "output_type": "stream",
     "text": [
      "[[-0.5 -0.5 -0.5  0.5 -0.5 -0.5  0.5]\n",
      " [ 0.5 -0.5 -0.5 -0.5  0.5 -0.5 -0.5]\n",
      " [-0.5  0.5 -0.5 -0.5 -0.5  0.5 -0.5]\n",
      " [-0.5 -0.5  0.5 -0.5 -0.5 -0.5  0.5]\n",
      " [ 0.5 -0.5 -0.5  0.5 -0.5 -0.5 -0.5]\n",
      " [-0.5  0.5 -0.5 -0.5  0.5 -0.5 -0.5]\n",
      " [-0.5 -0.5  0.5 -0.5 -0.5  0.5 -0.5]] RESULT\n",
      "(array([ 0.5, -0.5, -0.5,  0.5, -0.5, -0.5, -0.5]), 4)\n",
      "1.1341112221539742\n"
     ]
    }
   ],
   "source": [
    "\n",
    "print(genFamily(a[testindex],transition,L), \"RESULT\")\n",
    "print(get_representativ(a[testindex],transition,L))\n",
    "print(get_norm([0.5,-0.5,0.5,-0.5],2,transition,L))\n"
   ]
  },
  {
   "cell_type": "code",
   "execution_count": 4,
   "metadata": {},
   "outputs": [
    {
     "data": {
      "text/latex": [
       "$\\displaystyle \\left[\\begin{array}{cccccccccccccccccc}1.37348980185873 + 5.55111512312578 \\cdot 10^{-17} i & 0 & 0 & 0 & 0 & 0 & 0 & 0 & 0 & 0 & 0 & 0 & 0 & 0 & 0 & 0 & 0 & 0\\\\0 & 0.75 & 0.811744900929367 - 0.390915741234015 i & 0 & 0 & 0 & 0 & 0 & 0 & 0 & 0 & 0 & 0 & 0 & 0 & 0 & 0 & 0\\\\0 & 0.811744900929367 + 0.390915741234015 i & -0.25 & 0 & 0.811744900929367 - 0.390915741234015 i & 0 & 0 & 0 & 0 & 0 & 0 & 0 & 0 & 0 & 0 & 0 & 0 & 0\\\\0 & 0 & 0 & 0.75 & 0 & 0.311744900929367 - 0.390915741234015 i & 0.5 & 0 & 0 & 0 & 0 & 0 & 0 & 0 & 0 & 0 & 0 & 0\\\\0 & 0 & 0.811744900929367 + 0.390915741234015 i & 0 & -1.15096886790242 - 1.11022302462516 \\cdot 10^{-16} i & 0 & 0 & 0 & 0 & 0 & 0 & 0 & 0 & 0 & 0 & 0 & 0 & 0\\\\0 & 0 & 0 & 0.311744900929367 + 0.390915741234015 i & 0 & -0.25 & 0.5 & 0 & -0.111260466978157 + 0.487463956090912 i & 0.5 & 0 & 0 & 0 & 0 & 0 & 0 & 0 & 0\\\\0 & 0 & 0 & 0.5 & 0 & 0.5 & -0.25 & 0 & 0.5 & 0.311744900929367 - 0.390915741234015 i & 0 & 0 & 0 & 0 & 0 & 0 & 0 & 0\\\\0 & 0 & 0 & 0 & 0 & 0 & 0 & 0.75 & 0 & 0 & 0.311744900929367 - 0.390915741234015 i & 0 & 0.5 & 0 & 0 & 0 & 0 & 0\\\\0 & 0 & 0 & 0 & 0 & -0.111260466978157 - 0.487463956090912 i & 0.5 & 0 & -0.25 & 0.0495155660487905 - 0.216941869558779 i & 0 & 0 & 0 & 0 & 0 & 0 & 0 & 0\\\\0 & 0 & 0 & 0 & 0 & 0.5 & 0.311744900929367 + 0.390915741234015 i & 0 & 0.0495155660487904 + 0.216941869558779 i & -1.47252093395631 & 0 & 0 & 0 & 0 & 0 & 0 & 0 & 0\\\\0 & 0 & 0 & 0 & 0 & 0 & 0 & 0.311744900929367 + 0.390915741234015 i & 0 & 0 & -0.25 & 0.5 & -0.111260466978157 + 0.487463956090912 i & 0 & -0.111260466978157 + 0.487463956090912 i & 0 & 0 & 0\\\\0 & 0 & 0 & 0 & 0 & 0 & 0 & 0 & 0 & 0 & 0.5 & -0.25 & 0.5 & 0 & 0.0495155660487904 + 0.216941869558779 i & 0 & 0 & 0\\\\0 & 0 & 0 & 0 & 0 & 0 & 0 & 0.5 & 0 & 0 & -0.111260466978157 - 0.487463956090912 i & 0.5 & -0.25 & 0 & 0.311744900929367 + 0.390915741234015 i & 0 & 0 & 0\\\\0 & 0 & 0 & 0 & 0 & 0 & 0 & 0 & 0 & 0 & 0 & 0 & 0 & 0.75 & 0 & 0.811744900929367 + 0.390915741234015 i & 0 & 0\\\\0 & 0 & 0 & 0 & 0 & 0 & 0 & 0 & 0 & 0 & -0.111260466978157 - 0.487463956090912 i & 0.0495155660487905 - 0.216941869558779 i & 0.311744900929367 - 0.390915741234015 i & 0 & -1.47252093395631 & 0 & 0 & 0\\\\0 & 0 & 0 & 0 & 0 & 0 & 0 & 0 & 0 & 0 & 0 & 0 & 0 & 0.811744900929367 - 0.390915741234015 i & 0 & -0.25 & 0.811744900929367 + 0.390915741234015 i & 0\\\\0 & 0 & 0 & 0 & 0 & 0 & 0 & 0 & 0 & 0 & 0 & 0 & 0 & 0 & 0 & 0.811744900929367 - 0.390915741234015 i & -1.15096886790242 - 1.11022302462516 \\cdot 10^{-16} i & 0\\\\0 & 0 & 0 & 0 & 0 & 0 & 0 & 0 & 0 & 0 & 0 & 0 & 0 & 0 & 0 & 0 & 0 & 1.37348980185873 + 5.55111512312578 \\cdot 10^{-17} i\\end{array}\\right]$"
      ],
      "text/plain": [
       "Matrix([\n",
       "[1.37348980185873 + 5.55111512312578e-17*I,                                       0,                                       0,                                       0,                                          0,                                        0,                                       0,                                       0,                                        0,                                        0,                                        0,                                        0,                                        0,                                       0,                                        0,                                       0,                                          0,                                         0],\n",
       "[                                        0,                                    0.75, 0.811744900929367 - 0.390915741234015*I,                                       0,                                          0,                                        0,                                       0,                                       0,                                        0,                                        0,                                        0,                                        0,                                        0,                                       0,                                        0,                                       0,                                          0,                                         0],\n",
       "[                                        0, 0.811744900929367 + 0.390915741234015*I,                                   -0.25,                                       0,    0.811744900929367 - 0.390915741234015*I,                                        0,                                       0,                                       0,                                        0,                                        0,                                        0,                                        0,                                        0,                                       0,                                        0,                                       0,                                          0,                                         0],\n",
       "[                                        0,                                       0,                                       0,                                    0.75,                                          0,  0.311744900929367 - 0.390915741234015*I,                                     0.5,                                       0,                                        0,                                        0,                                        0,                                        0,                                        0,                                       0,                                        0,                                       0,                                          0,                                         0],\n",
       "[                                        0,                                       0, 0.811744900929367 + 0.390915741234015*I,                                       0, -1.15096886790242 - 1.11022302462516e-16*I,                                        0,                                       0,                                       0,                                        0,                                        0,                                        0,                                        0,                                        0,                                       0,                                        0,                                       0,                                          0,                                         0],\n",
       "[                                        0,                                       0,                                       0, 0.311744900929367 + 0.390915741234015*I,                                          0,                                    -0.25,                                     0.5,                                       0, -0.111260466978157 + 0.487463956090912*I,                                      0.5,                                        0,                                        0,                                        0,                                       0,                                        0,                                       0,                                          0,                                         0],\n",
       "[                                        0,                                       0,                                       0,                                     0.5,                                          0,                                      0.5,                                   -0.25,                                       0,                                      0.5,  0.311744900929367 - 0.390915741234015*I,                                        0,                                        0,                                        0,                                       0,                                        0,                                       0,                                          0,                                         0],\n",
       "[                                        0,                                       0,                                       0,                                       0,                                          0,                                        0,                                       0,                                    0.75,                                        0,                                        0,  0.311744900929367 - 0.390915741234015*I,                                        0,                                      0.5,                                       0,                                        0,                                       0,                                          0,                                         0],\n",
       "[                                        0,                                       0,                                       0,                                       0,                                          0, -0.111260466978157 - 0.487463956090912*I,                                     0.5,                                       0,                                    -0.25, 0.0495155660487905 - 0.216941869558779*I,                                        0,                                        0,                                        0,                                       0,                                        0,                                       0,                                          0,                                         0],\n",
       "[                                        0,                                       0,                                       0,                                       0,                                          0,                                      0.5, 0.311744900929367 + 0.390915741234015*I,                                       0, 0.0495155660487904 + 0.216941869558779*I,                        -1.47252093395631,                                        0,                                        0,                                        0,                                       0,                                        0,                                       0,                                          0,                                         0],\n",
       "[                                        0,                                       0,                                       0,                                       0,                                          0,                                        0,                                       0, 0.311744900929367 + 0.390915741234015*I,                                        0,                                        0,                                    -0.25,                                      0.5, -0.111260466978157 + 0.487463956090912*I,                                       0, -0.111260466978157 + 0.487463956090912*I,                                       0,                                          0,                                         0],\n",
       "[                                        0,                                       0,                                       0,                                       0,                                          0,                                        0,                                       0,                                       0,                                        0,                                        0,                                      0.5,                                    -0.25,                                      0.5,                                       0, 0.0495155660487904 + 0.216941869558779*I,                                       0,                                          0,                                         0],\n",
       "[                                        0,                                       0,                                       0,                                       0,                                          0,                                        0,                                       0,                                     0.5,                                        0,                                        0, -0.111260466978157 - 0.487463956090912*I,                                      0.5,                                    -0.25,                                       0,  0.311744900929367 + 0.390915741234015*I,                                       0,                                          0,                                         0],\n",
       "[                                        0,                                       0,                                       0,                                       0,                                          0,                                        0,                                       0,                                       0,                                        0,                                        0,                                        0,                                        0,                                        0,                                    0.75,                                        0, 0.811744900929367 + 0.390915741234015*I,                                          0,                                         0],\n",
       "[                                        0,                                       0,                                       0,                                       0,                                          0,                                        0,                                       0,                                       0,                                        0,                                        0, -0.111260466978157 - 0.487463956090912*I, 0.0495155660487905 - 0.216941869558779*I,  0.311744900929367 - 0.390915741234015*I,                                       0,                        -1.47252093395631,                                       0,                                          0,                                         0],\n",
       "[                                        0,                                       0,                                       0,                                       0,                                          0,                                        0,                                       0,                                       0,                                        0,                                        0,                                        0,                                        0,                                        0, 0.811744900929367 - 0.390915741234015*I,                                        0,                                   -0.25,    0.811744900929367 + 0.390915741234015*I,                                         0],\n",
       "[                                        0,                                       0,                                       0,                                       0,                                          0,                                        0,                                       0,                                       0,                                        0,                                        0,                                        0,                                        0,                                        0,                                       0,                                        0, 0.811744900929367 - 0.390915741234015*I, -1.15096886790242 - 1.11022302462516e-16*I,                                         0],\n",
       "[                                        0,                                       0,                                       0,                                       0,                                          0,                                        0,                                       0,                                       0,                                        0,                                        0,                                        0,                                        0,                                        0,                                       0,                                        0,                                       0,                                          0, 1.37348980185873 + 5.55111512312578e-17*I]])"
      ]
     },
     "execution_count": 4,
     "metadata": {},
     "output_type": "execute_result"
    }
   ],
   "source": [
    "import sympy\n",
    "sympy.Matrix(calcHam(genBasis(L,0.5),L,transition)[1])"
   ]
  },
  {
   "cell_type": "code",
   "execution_count": 5,
   "metadata": {},
   "outputs": [
    {
     "name": "stdout",
     "output_type": "stream",
     "text": [
      "0 8\n",
      "1 6\n",
      "2 6\n",
      "3 6\n",
      "4 6\n",
      "total  32  should be  32\n"
     ]
    }
   ],
   "source": [
    "dimsum = 0\n",
    "L = 5\n",
    "for nk in range(L):\n",
    "    sector_reps={}\n",
    "    for s in genBasis(L,0.5):\n",
    "        rep , xl = get_representativ(s,transition,L)\n",
    "        #fam = genFamily(rep)\n",
    "        norm=get_norm(rep,nk,transition,L)\n",
    "        if norm>1e-6: \n",
    "            if tuple(rep) not in sector_reps:\n",
    "                sector_reps[tuple(rep)]=norm\n",
    "    secdim = len(sector_reps.keys())\n",
    "    print(nk, secdim)\n",
    "    dimsum+=secdim\n",
    "print(\"total \", dimsum, \" should be \", 2**L)"
   ]
  },
  {
   "cell_type": "code",
   "execution_count": 6,
   "metadata": {},
   "outputs": [],
   "source": [
    "splitBasis, sZtot = splitBasisTotZ(genBasis(L,0.5),L)\n",
    "if L%2 == 0:\n",
    "    ind = sZtot.index(0)\n",
    "    testham = calcHam(splitBasis[ind],L,transition)[1]\n",
    "else:\n",
    "    ind = sZtot.index(0.5)\n",
    "    testham = calcHam(splitBasis[ind],L,transition)[1]"
   ]
  },
  {
   "cell_type": "markdown",
   "metadata": {},
   "source": [
    "## Exercise 13"
   ]
  },
  {
   "cell_type": "code",
   "execution_count": 7,
   "metadata": {},
   "outputs": [
    {
     "name": "stdout",
     "output_type": "stream",
     "text": [
      "2\n",
      "4\n",
      "6\n",
      "8\n"
     ]
    },
    {
     "data": {
      "image/png": "[encoded data removed]",
      "text/plain": [
       "<Figure size 432x288 with 1 Axes>"
      ]
     },
     "metadata": {
      "needs_background": "light"
     },
     "output_type": "display_data"
    }
   ],
   "source": [
    "import numpy as np\n",
    "import matplotlib.pyplot as plt\n",
    "\n",
    "def csr(matrix): #matrix has to be rows in first dimension\n",
    "    elements , coloumns, pointer = [] , [], [0] # generate output arrays\n",
    "    for row in matrix:\n",
    "        elements = np.append(elements, row[np.nonzero(row)]) # append all nonzero elements\n",
    "        coloumns = np.append(coloumns, np.nonzero(row)) # append the row indices with nonzero elements\n",
    "        pointer = np.append(pointer,np.count_nonzero(row) + pointer[-1]) # append the number of all nonzero elements up until that row\n",
    "    return elements, [int(c) for c in coloumns], pointer\n",
    "\n",
    "def matrixVectorproduct(Matrix,vector): # simple matrix vector product with a csr matrix \n",
    "    e, c, p  = csr(Matrix)\n",
    "    returnVec = []\n",
    "    for i in range(len(vector)):\n",
    "        returnVec.append(np.sum(np.multiply(np.take(vector,c[p[i]:p[i+1]]),e[p[i]:p[i+1]])))\n",
    "    return returnVec\n",
    "\n",
    "# testing\n",
    "matrix = np.asanyarray([[0,0,1,0],[3,2,0,0],[0,0,4,0],[0,0,0,0]])\n",
    "#print(csr(matrix))\n",
    "vec = np.asarray([1,2,3,4])\n",
    "#print(matrixVectorproduct(matrix,vec))\n",
    "\n",
    "\n",
    "\n",
    "Ls = [2,4,6,8]#,10 ,12,14,16] #not realy feasable timewise with my hamiltonian implementation \n",
    "numberNonzeroNormalized = []\n",
    "ham = 0\n",
    "\n",
    "for L in Ls:\n",
    "    print(L)\n",
    "    ham = calcMatrix(genBasis(L,0.5),1,L,0.5)\n",
    "    numberNonzeroNormalized.append(len(csr(ham)[0]) / (4**L))\n",
    "\n",
    "plt.plot(Ls,numberNonzeroNormalized)\n",
    "plt.xlabel(\"L\")\n",
    "plt.ylabel(r\"$\\frac{\\mathrm{Number of nonzero elements}  }{4^L}$\")\n",
    "plt.show()\n",
    "\n"
   ]
  },
  {
   "cell_type": "code",
   "execution_count": 8,
   "metadata": {},
   "outputs": [
    {
     "name": "stdout",
     "output_type": "stream",
     "text": [
      "False\n"
     ]
    }
   ],
   "source": [
    "from scipy.sparse import csr_matrix \n",
    "\n",
    "L = Ls[-1]\n",
    "\n",
    "v0 = np.random.rand(2**L)\n",
    "\n",
    "v1 = matrixVectorproduct(ham, v0)\n",
    "v2 = csr_matrix(ham).dot(v0)\n",
    "\n",
    "print(np.any(np.abs(np.add(v1, -v2)) >= 0.1)) # test if the difference of the output vectors is greater than 0"
   ]
  },
  {
   "cell_type": "markdown",
   "metadata": {},
   "source": [
    "## Exercise 14"
   ]
  },
  {
   "cell_type": "code",
   "execution_count": 9,
   "metadata": {},
   "outputs": [],
   "source": [
    "# %%\n",
    "from scipy.sparse import csr_matrix \n",
    "\n",
    "def lancoz(A, v_un, m): #A is scipy sparse matrix\n",
    "    n = len(v_un)\n",
    "    alpha = np.empty(m)\n",
    "    beta = np.empty(m)\n",
    "    v = np.empty((m+1,n))\n",
    "    v0 = v_un / np.linalg.norm(v_un)\n",
    "    v[0] = v0\n",
    "    beta[0] = 0\n",
    "    w = A.dot(v[0])\n",
    "    alpha[0] = np.dot(w,v[0])\n",
    "    w = np.add(w, -1*alpha[0]*v[0])\n",
    "    beta[1] = np.linalg.norm(w)\n",
    "    v[1] = w/beta[1]\n",
    "    for j in range(1,m-1):\n",
    "        w = np.add(A.dot(v[j]), (-1)*beta[j]*v[j-1])\n",
    "        alpha[j] =  np.dot(w,v[j])\n",
    "        w = np.add(w, -1*alpha[j]*v[j]) \n",
    "        beta[j+1] = np.linalg.norm(w)\n",
    "        v[j+1] = w/beta[j+1]\n",
    "    return v, alpha, beta[1:]\n",
    "\n",
    "Ls = [2,3,4,5,6,7,8]\n",
    "for L in Ls:\n",
    "    m = L # for these dimension the lancoz algorithm is not the bottleneck\n",
    "    mat = csr_matrix(calcMatrix(genBasis(L,0.5),1,L,0.5))\n",
    "    H = calcMatrix(genBasis(L,0.5),1,L,0.5)\n",
    "\n",
    "    v0 = np.random.rand(2**L)\n",
    "    v , alpha, beta = lancoz(mat,v0,m)\n",
    "\n",
    "    T = np.zeros((m,m))\n",
    "\n",
    "    for i in range(m):\n",
    "        T[i,i] = alpha[i]\n",
    "    for i in range(m-1):\n",
    "        T[i,i+1] = beta[i]\n",
    "        T[i+1,i] = beta[i]\n",
    "\n",
    "    eigenT = np.linalg.eigvals(T)\n",
    "    eigenH = np.linalg.eigvals(H)\n",
    "\n",
    "    print(L )\n",
    "    print(np.sort(np.unique(np.round(eigenH,decimals=3))))\n",
    "    print(np.sort(np.round(eigenT,decimals=3)))"
   ]
  },
  {
   "cell_type": "markdown",
   "metadata": {},
   "source": [
    "## Exercise 15"
   ]
  },
  {
   "cell_type": "code",
   "execution_count": 12,
   "metadata": {},
   "outputs": [
    {
     "name": "stderr",
     "output_type": "stream",
     "text": [
      "/tmp/ipykernel_995/870341565.py:13: ComplexWarning: Casting complex values to real discards the imaginary part\n",
      "  alpha[0] = np.dot(w,v[0])\n",
      "/tmp/ipykernel_995/870341565.py:16: ComplexWarning: Casting complex values to real discards the imaginary part\n",
      "  v[1] = w/beta[1]\n",
      "/tmp/ipykernel_995/870341565.py:19: ComplexWarning: Casting complex values to real discards the imaginary part\n",
      "  alpha[j] =  np.dot(w,v[j])\n",
      "/tmp/ipykernel_995/870341565.py:22: ComplexWarning: Casting complex values to real discards the imaginary part\n",
      "  v[j+1] = w/beta[j+1]\n"
     ]
    },
    {
     "name": "stdout",
     "output_type": "stream",
     "text": [
      "-1.5710707737143852 1\n",
      "-1.2770019519960583 0\n",
      "-2.6699648847387625 5\n",
      "-3.128419063844576 4\n",
      "-3.5673948934935744 2\n",
      "-4.0922073467386655 0\n",
      "-4.459738537171406 8\n",
      "-5.0315434037424485 6\n",
      "-5.333942549507927 10\n"
     ]
    }
   ],
   "source": [
    "def create_Hk_spinsec(L,spinsec):\n",
    "    splitBasis, sZtot = splitBasisTotZ(genBasis(L,0.5),L)\n",
    "    ind = sZtot.index(spinsec)\n",
    "    hams = []\n",
    "    lengths = []\n",
    "    for nk in range(0,L):\n",
    "        ham = calcHam(splitBasis[ind],L,transition)[nk]\n",
    "        hams.append(csr_matrix(ham))\n",
    "        if (len(ham[0]) == 0):\n",
    "            lengths.append(1)\n",
    "        else:\n",
    "            lengths.append(len(ham[0]))\n",
    "    return hams, lengths\n",
    "\n",
    "Elow = []\n",
    "whichnk = []\n",
    "\n",
    "Lmin, Lmax = 5, 14\n",
    "for L in range(Lmin,Lmax):\n",
    "    E0 = 100\n",
    "    whichNk = 0\n",
    "    if L%2 == 0:\n",
    "        ham, dims = create_Hk_spinsec(L,0)\n",
    "    else:\n",
    "        ham, dims = create_Hk_spinsec(L,0.5)\n",
    "    for i, h in enumerate(ham): #loop through nk\n",
    "        v0 = np.random.rand(dims[i])\n",
    "        m = dims[i]\n",
    "        v , alpha, beta = lancoz(h,v0,m)\n",
    "        T = np.zeros((m,m))\n",
    "        for k in range(m):\n",
    "            T[k,k] = alpha[k]\n",
    "        for k in range(m-1):\n",
    "            T[k,k+1] = beta[k]\n",
    "            T[k+1,k] = beta[k]\n",
    "\n",
    "        eigenT = np.linalg.eigvals(T)\n",
    "        if np.min(eigenT) < E0:\n",
    "            E0 = np.min(eigenT)\n",
    "            whichNk = i\n",
    "    Elow.append(E0/L)\n",
    "    whichnk.append(whichNk)\n",
    "    print(E0, whichNk)\n",
    "    \n"
   ]
  },
  {
   "cell_type": "code",
   "execution_count": 13,
   "metadata": {},
   "outputs": [
    {
     "data": {
      "image/png": "[encoded data removed]",
      "text/plain": [
       "<Figure size 432x288 with 1 Axes>"
      ]
     },
     "metadata": {
      "needs_background": "light"
     },
     "output_type": "display_data"
    }
   ],
   "source": [
    "Ls = np.arange(Lmin,Lmax,1) \n",
    "plt.axhline(y = 0.25-np.log(2), color = \"r\")     \n",
    "plt.plot(Ls,Elow)\n",
    "plt.show()"
   ]
  }
 ],
 "metadata": {
  "interpreter": {
   "hash": "916dbcbb3f70747c44a77c7bcd40155683ae19c65e1c03b4aa3499c5328201f1"
  },
  "kernelspec": {
   "display_name": "Python 3.8.10 64-bit",
   "language": "python",
   "name": "python3"
  },
  "language_info": {
   "codemirror_mode": {
    "name": "ipython",
    "version": 3
   },
   "file_extension": ".py",
   "mimetype": "text/x-python",
   "name": "python",
   "nbconvert_exporter": "python",
   "pygments_lexer": "ipython3",
   "version": "3.8.10"
  },
  "orig_nbformat": 4
 },
 "nbformat": 4,
 "nbformat_minor": 2
}
