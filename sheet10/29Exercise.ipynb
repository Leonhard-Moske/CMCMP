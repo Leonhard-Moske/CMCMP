{
 "cells": [
  {
   "cell_type": "code",
   "execution_count": 64,
   "metadata": {},
   "outputs": [],
   "source": [
    "import numpy as np\n",
    "\n",
    "def split(state, LA, LB):\n",
    "        U ,S, V = np.linalg.svd(np.reshape(state, (2**int(LA), 2**int(LB))))\n",
    "        return entropy(S)\n",
    "\n",
    "    \n",
    "\n",
    "# have to normalize wavefunctions\n",
    "\n",
    "def entropy(eig):\n",
    "    eig = eig[eig > 1.e-30]\n",
    "    return -np.sum(eig**2 * np.log(eig**2))\n"
   ]
  },
  {
   "cell_type": "code",
   "execution_count": 65,
   "metadata": {},
   "outputs": [
    {
     "name": "stdout",
     "output_type": "stream",
     "text": [
      "(2, 2, 2, 2, 2, 2, 2, 2, 2, 2, 2, 2)\n"
     ]
    }
   ],
   "source": [
    "# generate tensor\n",
    "\n",
    "L = 12\n",
    "\n",
    "chi = 6\n",
    "tensors = []\n",
    "\n",
    "tensors.append(np.random.normal(0,1,(2,chi)))\n",
    "\n",
    "for i in range(L-2):\n",
    "    tensors.append(np.random.normal(0,1,(2,chi,chi)))\n",
    "\n",
    "tensors.append(np.random.normal(0,1,(2,chi)))\n",
    "\n",
    "\n",
    "#A = np.random.normal(0,1,(2,chi))\n",
    "#Z = np.random.normal(0,1,(2,chi))\n",
    "\n",
    "c = tensors[0]\n",
    "\n",
    "for i in range(0,L -1):\n",
    "    c = np.tensordot(c,tensors[i + 1], axes= [i + 1,1])\n",
    "\n",
    "print(np.shape(c))"
   ]
  },
  {
   "cell_type": "code",
   "execution_count": 66,
   "metadata": {},
   "outputs": [
    {
     "name": "stdout",
     "output_type": "stream",
     "text": [
      "[0.0028715  0.0287654  0.02445323 ... 0.00476176 0.0038324  0.00077502]\n"
     ]
    }
   ],
   "source": [
    "coef = np.abs(np.reshape(c, 2**L))\n",
    "coef /= np.linalg.norm(coef)\n",
    "\n",
    "print(coef)"
   ]
  },
  {
   "cell_type": "code",
   "execution_count": 67,
   "metadata": {},
   "outputs": [
    {
     "name": "stdout",
     "output_type": "stream",
     "text": [
      "-0.11034698365268517\n"
     ]
    }
   ],
   "source": [
    "print(entropy(split(coef, L/2, L/2)))"
   ]
  }
 ],
 "metadata": {
  "kernelspec": {
   "display_name": "Python 3.9.2 64-bit",
   "language": "python",
   "name": "python3"
  },
  "language_info": {
   "codemirror_mode": {
    "name": "ipython",
    "version": 3
   },
   "file_extension": ".py",
   "mimetype": "text/x-python",
   "name": "python",
   "nbconvert_exporter": "python",
   "pygments_lexer": "ipython3",
   "version": "3.9.2"
  },
  "orig_nbformat": 4,
  "vscode": {
   "interpreter": {
    "hash": "916dbcbb3f70747c44a77c7bcd40155683ae19c65e1c03b4aa3499c5328201f1"
   }
  }
 },
 "nbformat": 4,
 "nbformat_minor": 2
}
