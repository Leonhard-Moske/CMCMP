{
 "cells": [
  {
   "cell_type": "markdown",
   "metadata": {},
   "source": [
    "# Physics767 Execrcies sheet 2 Leonhard Moske\n",
    "\n",
    "## Exercise 5\n",
    "\n",
    "Generating all basis states of a $L$- Spin System with spin quantum number $s$."
   ]
  },
  {
   "cell_type": "code",
   "execution_count": 1,
   "metadata": {},
   "outputs": [],
   "source": [
    "import numpy as np\n",
    "import itertools as it\n",
    "import sympy\n",
    "\n",
    "def genBasis(L, s): #L number of spins, s total spin\n",
    "    posSpins = np.linspace(-s, s, int((2*s+1)), dtype = float)#generate List of all possible z projections\n",
    "    #print(\"possible Spins \", posSpins)\n",
    "    tmp = it.product(posSpins, repeat = L) # generate object that itterates over all combinations\n",
    "    return np.asarray([i for i in tmp]) # assemble the list"
   ]
  },
  {
   "cell_type": "code",
   "execution_count": 2,
   "metadata": {},
   "outputs": [
    {
     "name": "stdout",
     "output_type": "stream",
     "text": [
      "[[-1.5 -1.5]\n",
      " [-1.5 -0.5]\n",
      " [-1.5  0.5]\n",
      " [-1.5  1.5]\n",
      " [-0.5 -1.5]\n",
      " [-0.5 -0.5]\n",
      " [-0.5  0.5]\n",
      " [-0.5  1.5]\n",
      " [ 0.5 -1.5]\n",
      " [ 0.5 -0.5]\n",
      " [ 0.5  0.5]\n",
      " [ 0.5  1.5]\n",
      " [ 1.5 -1.5]\n",
      " [ 1.5 -0.5]\n",
      " [ 1.5  0.5]\n",
      " [ 1.5  1.5]]\n"
     ]
    }
   ],
   "source": [
    "Basis = genBasis(2,1.5)\n",
    "print(Basis)"
   ]
  },
  {
   "cell_type": "markdown",
   "metadata": {},
   "source": [
    "## Exercis 6\n",
    "\n",
    "calculate the matrix elements of the antiferromagnetic spin $s$ Hamiltonian of the Heisenberg model with open boundary conditions.\n",
    "\n",
    "$H = J \\sum_{i=1}^{L-1}\\left[ \\frac{1}{2} \\left(S_i^+S_{i+1}^- + S_i^-S_{i+1}^+\\right) + S_i^zS_{i+1}^z\\right]$"
   ]
  },
  {
   "cell_type": "code",
   "execution_count": 3,
   "metadata": {},
   "outputs": [],
   "source": [
    "lMaxhalf = 9 # maximal number of s=0.5\n",
    "lMaxone = 7 # maximal number of s=1"
   ]
  },
  {
   "cell_type": "code",
   "execution_count": 4,
   "metadata": {},
   "outputs": [],
   "source": [
    "def Splus(oldcoef, state, site, s): # site counted from 0 , passed with copy\n",
    "                        # return new coefficient and new state \n",
    "    if (state[site] >= s): # if state is s the operator will return 0\n",
    "        return 0, np.zeros(L)\n",
    "    coef = np.sqrt(s*(s+1) - state[site] * (state[site] + 1)) #calculate new coef\n",
    "    state[site] = state[site] + 1 # update spin state\n",
    "    return coef*oldcoef, state \n",
    "\n",
    "def Sminus(oldcoef, state, site, s): # analog to Splus\n",
    "    if (state[site] <= -s ):\n",
    "        return 0, np.zeros(L)\n",
    "    coef = np.sqrt(s*(s+1) - state[site] * (state[site] - 1))\n",
    "    state[site] = state[site] - 1\n",
    "    return coef*oldcoef, state \n",
    "\n",
    "def Sz(coef, state, site): \n",
    "    return state[site]*coef, state\n",
    "\n",
    "def Hamiltonian(J, statei, L, statej, s):\n",
    "    H = 0\n",
    "    for i in range(L-1): #apply the operators to every site until L-1\n",
    "        coef1, state1 = Splus(*Sminus(1, np.copy(statei), i+1, s), i, s)\n",
    "        coef2, state2 = Sminus(*Splus(1, np.copy(statei), i+1, s), i, s)\n",
    "        coef3, state3 = Sz(*Sz(1, np.copy(statei), i+1), i)\n",
    "        if np.array_equal(state1, statej): #compare if (<i|H)|j> is 0 for every term\n",
    "            H += coef1*J*0.5\n",
    "        if np.array_equal(state2, statej):\n",
    "            H += coef2*J*0.5\n",
    "        if np.array_equal(state3, statej):\n",
    "            H += coef3 * J\n",
    "    return H\n",
    "\n",
    "def calcMatrix(Basis, J, L, s):# calculate the basis by calculating the hamiltonian with all combination from the basis\n",
    "    Matrix = np.empty((len(Basis),len(Basis)))\n",
    "    for i, j in it.product(range(len(Basis)), repeat=2):\n",
    "        Matrix[i,j] = Hamiltonian(J, Basis[i], L, Basis[j], s)\n",
    "    return Matrix\n"
   ]
  },
  {
   "cell_type": "code",
   "execution_count": 5,
   "metadata": {},
   "outputs": [
    {
     "data": {
      "text/latex": [
       "$\\displaystyle \\left[\\begin{matrix}0.5 & 0 & 0 & 0 & 0 & 0 & 0 & 0\\\\0 & 0 & 0.5 & 0 & 0 & 0 & 0 & 0\\\\0 & 0.5 & -0.5 & 0 & 0.5 & 0 & 0 & 0\\\\0 & 0 & 0 & 0 & 0 & 0.5 & 0 & 0\\\\0 & 0 & 0.5 & 0 & 0 & 0 & 0 & 0\\\\0 & 0 & 0 & 0.5 & 0 & -0.5 & 0.5 & 0\\\\0 & 0 & 0 & 0 & 0 & 0.5 & 0 & 0\\\\0 & 0 & 0 & 0 & 0 & 0 & 0 & 0.5\\end{matrix}\\right]$"
      ],
      "text/plain": [
       "Matrix([\n",
       "[0.5,   0,    0,   0,   0,    0,   0,   0],\n",
       "[  0,   0,  0.5,   0,   0,    0,   0,   0],\n",
       "[  0, 0.5, -0.5,   0, 0.5,    0,   0,   0],\n",
       "[  0,   0,    0,   0,   0,  0.5,   0,   0],\n",
       "[  0,   0,  0.5,   0,   0,    0,   0,   0],\n",
       "[  0,   0,    0, 0.5,   0, -0.5, 0.5,   0],\n",
       "[  0,   0,    0,   0,   0,  0.5,   0,   0],\n",
       "[  0,   0,    0,   0,   0,    0,   0, 0.5]])"
      ]
     },
     "execution_count": 5,
     "metadata": {},
     "output_type": "execute_result"
    }
   ],
   "source": [
    "J = 1\n",
    "s = 0.5\n",
    "L = 3\n",
    "\n",
    "matrix = calcMatrix(genBasis(L,s), J, L, s)\n",
    "\n",
    "sympy.Matrix(matrix)"
   ]
  },
  {
   "cell_type": "code",
   "execution_count": 6,
   "metadata": {},
   "outputs": [
    {
     "data": {
      "text/latex": [
       "$\\displaystyle \\left[\\begin{matrix}-1.0\\\\-1.0\\\\-5.43456338958359 \\cdot 10^{-17}\\\\-5.43456338958359 \\cdot 10^{-17}\\\\0.5\\\\0.5\\\\0.5\\\\0.5\\end{matrix}\\right]$"
      ],
      "text/plain": [
       "Matrix([\n",
       "[                 -1.0],\n",
       "[                 -1.0],\n",
       "[-5.43456338958359e-17],\n",
       "[-5.43456338958359e-17],\n",
       "[                  0.5],\n",
       "[                  0.5],\n",
       "[                  0.5],\n",
       "[                  0.5]])"
      ]
     },
     "execution_count": 6,
     "metadata": {},
     "output_type": "execute_result"
    }
   ],
   "source": [
    "Evalues , Evectors = np.linalg.eigh(matrix) # calculate the eigenvalues\n",
    "\n",
    "sympy.Matrix(Evalues)"
   ]
  },
  {
   "cell_type": "markdown",
   "metadata": {},
   "source": [
    "Ploting the lowest 4 Eigenvalues for $s=\\frac{1}{2}$ and $s = 1$ as a function of $\\frac{1}{L}$"
   ]
  },
  {
   "cell_type": "code",
   "execution_count": 7,
   "metadata": {},
   "outputs": [
    {
     "data": {
      "image/png": "[encoded data removed]",
      "text/plain": [
       "<Figure size 432x288 with 1 Axes>"
      ]
     },
     "metadata": {
      "needs_background": "light"
     },
     "output_type": "display_data"
    },
    {
     "data": {
      "image/png": "[encoded data removed]",
      "text/plain": [
       "<Figure size 432x288 with 1 Axes>"
      ]
     },
     "metadata": {
      "needs_background": "light"
     },
     "output_type": "display_data"
    }
   ],
   "source": [
    "import matplotlib.pyplot as plt\n",
    "from timeit import default_timer as timer\n",
    "\n",
    "J = 1\n",
    "s = 0.5\n",
    "\n",
    "measureTime = []\n",
    "times = []\n",
    "Length = []\n",
    "\n",
    "\n",
    "for L in range(1,lMaxhalf):\n",
    "    start = timer()\n",
    "    matrix = calcMatrix(genBasis(L,s), J, L, s)\n",
    "    Evalues , Evectors = np.linalg.eigh(matrix) # calculate the eigenvalues\n",
    "    if len(Evalues) >= 4: # print the lowest 4 Eigenvalues\n",
    "        plt.scatter([1/L]*4, np.sort(Evalues)[:4], color = \"blue\")\n",
    "    else:\n",
    "        plt.scatter([1/L]*len(Evalues), np.sort(Evalues), color = \"blue\")\n",
    "    times.append(timer() - start)\n",
    "    Length.append(L)\n",
    "\n",
    "plt.title(f\"lowest 4 Eigenvalues of a {s}-Spin system in the Heisenberg model\")\n",
    "plt.xlabel(r\"$\\frac{1}{L}$\", fontsize = 15)\n",
    "plt.ylabel(\"Eigenvalue\", fontsize = 15)\n",
    "plt.grid()\n",
    "plt.show()\n",
    "\n",
    "s = 1\n",
    "\n",
    "measureTime.append([Length, times])\n",
    "times = []\n",
    "Length = []\n",
    "\n",
    "for L in range(1,lMaxone):\n",
    "    start = timer()\n",
    "    matrix = calcMatrix(genBasis(L,s), J, L, s)\n",
    "    Evalues , Evectors = np.linalg.eigh(matrix) # calculate the eigenvalues\n",
    "    if len(Evalues) >= 4: #print the lowest 4 eigenvalues\n",
    "        plt.scatter([1/L]*4, np.sort(Evalues)[:4], color = \"blue\")\n",
    "    else:\n",
    "        plt.scatter([1/L]*len(Evalues), np.sort(Evalues), color = \"blue\")\n",
    "    times.append(timer() - start)\n",
    "    Length.append(L)\n",
    "    \n",
    "measureTime.append([Length, times])\n",
    "times = []\n",
    "Length = []\n",
    "\n",
    "plt.title(f\"lowest 4 Eigenvalues of a {s}-Spin system in the Heisenberg model\")\n",
    "plt.xlabel(r\"$\\frac{1}{L}$\", fontsize = 15)\n",
    "plt.ylabel(\"Eigenvalue\", fontsize = 15)\n",
    "plt.grid()\n",
    "plt.show()"
   ]
  },
  {
   "cell_type": "markdown",
   "metadata": {},
   "source": [
    "## Exercise 7\n",
    "\n",
    "Show that the Hamiltonian commutes with the total $z$ projection and use it to generate a block diagonal hamiltonian"
   ]
  },
  {
   "cell_type": "code",
   "execution_count": 8,
   "metadata": {},
   "outputs": [],
   "source": [
    "def totalZ(state, L):\n",
    "    totalZ = 0\n",
    "    for i in range(L):\n",
    "        totalZ += Sz(1, state, i)[0]\n",
    "    return totalZ\n",
    "\n",
    "def totalZmatrix(Basis, L):# calculate the basis by calculating the hamiltonian with all combination from the basis\n",
    "    Matrix = np.zeros((len(Basis),len(Basis))) # since we know that the basisstates are eigenstates of totalZ we only have to compute the diagonal \n",
    "    for i in range(len(Basis)):\n",
    "        Matrix[i,i] = totalZ(Basis[i], L)\n",
    "    return Matrix\n",
    "\n",
    "# def splitBasisfast(Basis, L):\n",
    "#     totalZofBasis = [totalZ(state, L) for state in Basis]\n",
    "#     return [Basis[totalZofBasis == totalZ(i)] for i in Basis]\n",
    "\n",
    "def splitBasis(Basis, L):\n",
    "    splitBasis= []\n",
    "    sortedBasis = sorted(Basis, key = lambda state : (totalZ(state, L)))\n",
    "    tmpBasis = []\n",
    "    oldz = totalZ(sortedBasis[0],L)\n",
    "    for state in sortedBasis:\n",
    "        z = totalZ(state, L)\n",
    "        if z != oldz:\n",
    "            splitBasis.append(tmpBasis)\n",
    "            tmpBasis = [state]\n",
    "            oldz = z\n",
    "        else:\n",
    "            tmpBasis.append(state)\n",
    "            oldz = z\n",
    "    splitBasis.append(tmpBasis)  \n",
    "    return splitBasis"
   ]
  },
  {
   "cell_type": "markdown",
   "metadata": {},
   "source": [
    "Calculating the commutator to show that the Hamiltonian and the total Spin operator have the same eigenbasis."
   ]
  },
  {
   "cell_type": "code",
   "execution_count": 9,
   "metadata": {},
   "outputs": [
    {
     "data": {
      "text/latex": [
       "$\\displaystyle \\left[\\begin{array}{cccccccccccccccc}0 & 0 & 0 & 0 & 0 & 0 & 0 & 0 & 0 & 0 & 0 & 0 & 0 & 0 & 0 & 0\\\\0 & 0 & 0 & 0 & 0 & 0 & 0 & 0 & 0 & 0 & 0 & 0 & 0 & 0 & 0 & 0\\\\0 & 0 & 0 & 0 & 0 & 0 & 0 & 0 & 0 & 0 & 0 & 0 & 0 & 0 & 0 & 0\\\\0 & 0 & 0 & 0 & 0 & 0 & 0 & 0 & 0 & 0 & 0 & 0 & 0 & 0 & 0 & 0\\\\0 & 0 & 0 & 0 & 0 & 0 & 0 & 0 & 0 & 0 & 0 & 0 & 0 & 0 & 0 & 0\\\\0 & 0 & 0 & 0 & 0 & 0 & 0 & 0 & 0 & 0 & 0 & 0 & 0 & 0 & 0 & 0\\\\0 & 0 & 0 & 0 & 0 & 0 & 0 & 0 & 0 & 0 & 0 & 0 & 0 & 0 & 0 & 0\\\\0 & 0 & 0 & 0 & 0 & 0 & 0 & 0 & 0 & 0 & 0 & 0 & 0 & 0 & 0 & 0\\\\0 & 0 & 0 & 0 & 0 & 0 & 0 & 0 & 0 & 0 & 0 & 0 & 0 & 0 & 0 & 0\\\\0 & 0 & 0 & 0 & 0 & 0 & 0 & 0 & 0 & 0 & 0 & 0 & 0 & 0 & 0 & 0\\\\0 & 0 & 0 & 0 & 0 & 0 & 0 & 0 & 0 & 0 & 0 & 0 & 0 & 0 & 0 & 0\\\\0 & 0 & 0 & 0 & 0 & 0 & 0 & 0 & 0 & 0 & 0 & 0 & 0 & 0 & 0 & 0\\\\0 & 0 & 0 & 0 & 0 & 0 & 0 & 0 & 0 & 0 & 0 & 0 & 0 & 0 & 0 & 0\\\\0 & 0 & 0 & 0 & 0 & 0 & 0 & 0 & 0 & 0 & 0 & 0 & 0 & 0 & 0 & 0\\\\0 & 0 & 0 & 0 & 0 & 0 & 0 & 0 & 0 & 0 & 0 & 0 & 0 & 0 & 0 & 0\\\\0 & 0 & 0 & 0 & 0 & 0 & 0 & 0 & 0 & 0 & 0 & 0 & 0 & 0 & 0 & 0\\end{array}\\right]$"
      ],
      "text/plain": [
       "Matrix([\n",
       "[0, 0, 0, 0, 0, 0, 0, 0, 0, 0, 0, 0, 0, 0, 0, 0],\n",
       "[0, 0, 0, 0, 0, 0, 0, 0, 0, 0, 0, 0, 0, 0, 0, 0],\n",
       "[0, 0, 0, 0, 0, 0, 0, 0, 0, 0, 0, 0, 0, 0, 0, 0],\n",
       "[0, 0, 0, 0, 0, 0, 0, 0, 0, 0, 0, 0, 0, 0, 0, 0],\n",
       "[0, 0, 0, 0, 0, 0, 0, 0, 0, 0, 0, 0, 0, 0, 0, 0],\n",
       "[0, 0, 0, 0, 0, 0, 0, 0, 0, 0, 0, 0, 0, 0, 0, 0],\n",
       "[0, 0, 0, 0, 0, 0, 0, 0, 0, 0, 0, 0, 0, 0, 0, 0],\n",
       "[0, 0, 0, 0, 0, 0, 0, 0, 0, 0, 0, 0, 0, 0, 0, 0],\n",
       "[0, 0, 0, 0, 0, 0, 0, 0, 0, 0, 0, 0, 0, 0, 0, 0],\n",
       "[0, 0, 0, 0, 0, 0, 0, 0, 0, 0, 0, 0, 0, 0, 0, 0],\n",
       "[0, 0, 0, 0, 0, 0, 0, 0, 0, 0, 0, 0, 0, 0, 0, 0],\n",
       "[0, 0, 0, 0, 0, 0, 0, 0, 0, 0, 0, 0, 0, 0, 0, 0],\n",
       "[0, 0, 0, 0, 0, 0, 0, 0, 0, 0, 0, 0, 0, 0, 0, 0],\n",
       "[0, 0, 0, 0, 0, 0, 0, 0, 0, 0, 0, 0, 0, 0, 0, 0],\n",
       "[0, 0, 0, 0, 0, 0, 0, 0, 0, 0, 0, 0, 0, 0, 0, 0],\n",
       "[0, 0, 0, 0, 0, 0, 0, 0, 0, 0, 0, 0, 0, 0, 0, 0]])"
      ]
     },
     "execution_count": 9,
     "metadata": {},
     "output_type": "execute_result"
    }
   ],
   "source": [
    "L = 4 # change it how you like\n",
    "s = 0.5 # change it how you like\n",
    "\n",
    "\n",
    "zMatrix = totalZmatrix(genBasis(L, s),L)\n",
    "hMatrix = calcMatrix(genBasis(L,s),J,L,s)\n",
    "\n",
    "sympy.Matrix(np.matmul(zMatrix, hMatrix) - np.matmul(hMatrix, zMatrix)) # calculating the commutator of the totalZ matrix and the hamiltonian\n",
    "                                                                        # it should always be 0"
   ]
  },
  {
   "cell_type": "code",
   "execution_count": 10,
   "metadata": {},
   "outputs": [
    {
     "data": {
      "image/png": "[encoded data removed]",
      "text/plain": [
       "<Figure size 432x288 with 1 Axes>"
      ]
     },
     "metadata": {
      "needs_background": "light"
     },
     "output_type": "display_data"
    },
    {
     "data": {
      "image/png": "[encoded data removed]",
      "text/plain": [
       "<Figure size 432x288 with 1 Axes>"
      ]
     },
     "metadata": {
      "needs_background": "light"
     },
     "output_type": "display_data"
    }
   ],
   "source": [
    "J = 1\n",
    "s = 0.5\n",
    "\n",
    "\n",
    "for L in range(1,lMaxhalf+1):\n",
    "    start = timer()\n",
    "    Basis = splitBasis(genBasis(L,s),L)# sort the basis by the total spin\n",
    "    allEvalues = []\n",
    "    for stotal in Basis:\n",
    "        matrix = calcMatrix(stotal, J, L, s)\n",
    "        #print(matrix)\n",
    "        Evalues , Evectors = np.linalg.eigh(matrix) # calculate the eigenvalues\n",
    "        allEvalues = np.append(allEvalues , Evalues)\n",
    "    allEvalues = allEvalues.flatten()\n",
    "    #print(allEvalues)\n",
    "    if len(allEvalues) >= 4: # print the lowest 4 Eigenvalues\n",
    "        plt.scatter([1/L]*4, np.sort(allEvalues)[:4], color = \"blue\")\n",
    "    else:\n",
    "        plt.scatter([1/L]*len(allEvalues), np.sort(allEvalues), color = \"blue\")\n",
    "    times.append(timer() - start)\n",
    "    Length.append(L)\n",
    "\n",
    "measureTime.append([Length, times])\n",
    "times = []\n",
    "Length = []\n",
    "\n",
    "plt.title(f\"lowest 4 Eigenvalues of a {s}-Spin system in the Heisenberg model with rearanged basis\")\n",
    "plt.xlabel(r\"$\\frac{1}{L}$\", fontsize = 15)\n",
    "plt.ylabel(\"Eigenvalue\", fontsize = 15)\n",
    "plt.grid()\n",
    "plt.show()\n",
    "\n",
    "s = 1\n",
    "    \n",
    "for L in range(1,lMaxone+1):\n",
    "    start = timer()\n",
    "    #print(genBasis(L,s), J, L, s)\n",
    "    Basis = splitBasis(genBasis(L,s),L)# sort the basis by the total spin\n",
    "    #print(Basis)\n",
    "    allEvalues = []\n",
    "    #print(allEvalues)\n",
    "    for stotal in Basis:\n",
    "        matrix = calcMatrix(stotal, J, L, s)\n",
    "        Evalues , Evectors = np.linalg.eigh(matrix) # calculate the eigenvalues\n",
    "        #print(L, Evalues, allEvalues)\n",
    "        allEvalues = np.append(allEvalues , Evalues)\n",
    "    allEvalues = allEvalues.flatten()\n",
    "    if len(allEvalues) >= 4: # print the lowest 4 Eigenvalues\n",
    "        plt.scatter([1/L]*4, np.sort(allEvalues)[:4], color = \"blue\")\n",
    "    else:\n",
    "        plt.scatter([1/L]*len(allEvalues), np.sort(allEvalues), color = \"blue\")\n",
    "    times.append(timer() - start)\n",
    "    Length.append(L)\n",
    "    \n",
    "measureTime.append([Length, times])\n",
    "times = []\n",
    "Length = []\n",
    "\n",
    "\n",
    "plt.title(f\"lowest 4 Eigenvalues of a {s}-Spin system in the Heisenberg model with rearanged basis\")\n",
    "plt.xlabel(r\"$\\frac{1}{L}$\", fontsize = 15)\n",
    "plt.ylabel(\"Eigenvalue\", fontsize = 15)\n",
    "plt.grid()\n",
    "plt.show()"
   ]
  },
  {
   "cell_type": "markdown",
   "metadata": {},
   "source": [
    "With a rearagned basis i can add one state more than without. "
   ]
  },
  {
   "cell_type": "code",
   "execution_count": 11,
   "metadata": {},
   "outputs": [
    {
     "data": {
      "image/png": "[encoded data removed]",
      "text/plain": [
       "<Figure size 432x288 with 1 Axes>"
      ]
     },
     "metadata": {
      "needs_background": "light"
     },
     "output_type": "display_data"
    },
    {
     "data": {
      "image/png": "[encoded data removed]",
      "text/plain": [
       "<Figure size 432x288 with 1 Axes>"
      ]
     },
     "metadata": {
      "needs_background": "light"
     },
     "output_type": "display_data"
    }
   ],
   "source": [
    "\n",
    "labels = [r\"$s= \\frac{1}{2}$\", r\"$s= 1$\",r\"$s= \\frac{1}{2}$ rearanged basis\", r\"$s= 1$ rearanged basis\"]\n",
    "\n",
    "for i, x in enumerate(measureTime):\n",
    "    plt.scatter(x[0], x[1], label = labels[i])\n",
    "\n",
    "\n",
    "plt.xlabel(r\"$L$\")\n",
    "plt.ylabel(r\"computation time [$s$]\")\n",
    "plt.yscale(\"log\")\n",
    "plt.legend()\n",
    "plt.show()\n",
    "\n",
    "for i, x in enumerate(measureTime):\n",
    "    plt.scatter(x[0], x[1], label = labels[i])\n",
    "\n",
    "\n",
    "plt.xlabel(r\"$L$\")\n",
    "plt.ylabel(r\"computation time [$s$]\")\n",
    "plt.legend()\n",
    "plt.show()"
   ]
  }
 ],
 "metadata": {
  "interpreter": {
   "hash": "916dbcbb3f70747c44a77c7bcd40155683ae19c65e1c03b4aa3499c5328201f1"
  },
  "kernelspec": {
   "display_name": "Python 3.8.10 64-bit",
   "language": "python",
   "name": "python3"
  },
  "language_info": {
   "codemirror_mode": {
    "name": "ipython",
    "version": 3
   },
   "file_extension": ".py",
   "mimetype": "text/x-python",
   "name": "python",
   "nbconvert_exporter": "python",
   "pygments_lexer": "ipython3",
   "version": "3.8.10"
  },
  "orig_nbformat": 4
 },
 "nbformat": 4,
 "nbformat_minor": 2
}
