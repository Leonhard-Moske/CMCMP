{
 "cells": [
  {
   "cell_type": "markdown",
   "metadata": {},
   "source": [
    "# Sheet9 Leonhard Moske\n"
   ]
  },
  {
   "cell_type": "code",
   "execution_count": 1,
   "metadata": {},
   "outputs": [],
   "source": [
    "import numpy as np\n",
    "import itertools as it\n",
    "import sympy\n",
    "\n",
    "def genBasis(L, s): #L number of spins, s total spin\n",
    "    posSpins = np.linspace(-s, s, int((2*s+1)), dtype = float)#generate List of all possible z projections\n",
    "    #print(\"possible Spins \", posSpins)\n",
    "    tmp = it.product(posSpins, repeat = L) # generate object that itterates over all combinations\n",
    "    return np.asarray([i for i in tmp]) # assemble the list\n",
    "\n",
    "def Splus(oldcoef, state, site, s): # site counted from 0 , passed with copy\n",
    "                        # return new coefficient and new state \n",
    "    if (state[site] >= s): # if state is s the operator will return 0\n",
    "        return 0, np.zeros(len(state))\n",
    "    coef = np.sqrt(s*(s+1) - state[site] * (state[site] + 1)) #calculate new coef\n",
    "    state[site] = state[site] + 1 # update spin state\n",
    "    return coef*oldcoef, state \n",
    "\n",
    "def Sminus(oldcoef, state, site, s): # analog to Splus\n",
    "    if (state[site] <= -s ):\n",
    "        return 0, np.zeros(len(state))\n",
    "    coef = np.sqrt(s*(s+1) - state[site] * (state[site] - 1))\n",
    "    state[site] = state[site] - 1\n",
    "    return coef*oldcoef, state \n",
    "\n",
    "def Sz(coef, state, site): \n",
    "    return state[site]*coef, state\n",
    "\n",
    "def HeisenbergHamiltonian(J, statei, L, statej, s):\n",
    "    H = 0\n",
    "    for i in range(L-1): #apply the operators to every site until L-1\n",
    "        coef1, state1 = Splus(*Sminus(1, np.copy(statei), i+1, s), i, s)\n",
    "        coef2, state2 = Sminus(*Splus(1, np.copy(statei), i+1, s), i, s)\n",
    "        coef3, state3 = Sz(*Sz(1, np.copy(statei), i+1), i)\n",
    "        if np.array_equal(state1, statej): #compare if (<i|H)|j> is 0 for every term\n",
    "            H += coef1*J*0.5\n",
    "        if np.array_equal(state2, statej):\n",
    "            H += coef2*J*0.5\n",
    "        if np.array_equal(state3, statej):\n",
    "            H += coef3 * J\n",
    "    return H\n",
    "\n",
    "def HeisenbergHamiltonian(J, statei, L, statej, s):\n",
    "    H = 0\n",
    "    for i in range(L-1): #apply the operators to every site until L-1\n",
    "        coef1, state1 = Splus(*Sminus(1, np.copy(statei), i+1, s), i, s)\n",
    "        coef2, state2 = Sminus(*Splus(1, np.copy(statei), i+1, s), i, s)\n",
    "        coef3, state3 = Sz(*Sz(1, np.copy(statei), i+1), i)\n",
    "        if np.array_equal(state1, statej): #compare if (<i|H)|j> is 0 for every term\n",
    "            H += coef1*J*0.5\n",
    "        if np.array_equal(state2, statej):\n",
    "            H += coef2*J*0.5\n",
    "        if np.array_equal(state3, statej):\n",
    "            H += coef3 * J\n",
    "    return H\n",
    "\n",
    "def calcMatrix(Basis, J, L, s):# calculate the basis by calculating the hamiltonian with all combination from the basis\n",
    "    Matrix = np.empty((len(Basis),len(Basis)))\n",
    "    for i, j in it.product(range(len(Basis)), repeat=2):\n",
    "        Matrix[i,j] = HeisenbergHamiltonian(J, Basis[i], L, Basis[j], s)\n",
    "    return Matrix"
   ]
  },
  {
   "cell_type": "code",
   "execution_count": 2,
   "metadata": {},
   "outputs": [],
   "source": [
    "\n",
    "def genBasis(L, s): #L number of spins, s total spin\n",
    "    posSpins = np.linspace(-s, s, int((2*s+1)), dtype = float)#generate List of all possible z projections\n",
    "    #print(\"possible Spins \", posSpins)\n",
    "    tmp = it.product(posSpins, repeat = L) # generate object that itterates over all combinations\n",
    "    return np.asarray([i for i in tmp]) # assemble the list\n",
    "\n",
    "def Splus(oldcoef, state, site): # site counted from 0 , passed with copy\n",
    "                        # return new coefficient and new state \n",
    "    if (state[site] == 0.5): #s): # if state is s the operator will return 0\n",
    "        return 0, np.zeros(L)\n",
    "    # coef = 1  #s = 1/2 #coef = np.sqrt(s*(s+1) - state[site] * (state[site] + 1)) #calculate new coef\n",
    "    state[site] = 0.5 #state[site] + 1 # update spin state\n",
    "    return oldcoef, state \n",
    "\n",
    "def Sminus(oldcoef, state, site): # analog to Splus\n",
    "    if (state[site] == -0.5): # -s ):\n",
    "        return 0, np.zeros(L)\n",
    "    # coef = 1 #coef = np.sqrt(s*(s+1) - state[site] * (state[site] - 1))\n",
    "    state[site] = -0.5 # state[site] - 1\n",
    "    return oldcoef, state #coef*oldcoef \n",
    "\n",
    "def Sz(coef, state, site): \n",
    "    return state[site]*coef, state\n",
    "\n",
    "def Hamiltonian(J, statei, L, statej, s):\n",
    "    H = 0\n",
    "    # if (np.array_equal(statei, statej)): # is in HamiltonianDiag\n",
    "    #     for i in range(L):\n",
    "    #         H += statei[i]*statei[(i+1)%L] * J\n",
    "            #H += Sz(*Sz(1, np.copy(statei), (i+1)%L), i)[0] * J\n",
    "    for i in range(L): #apply the operators to every site until L-1\n",
    "        coef1, state1 = Splus(*Sminus(1, np.copy(statei),(i+1)%L), i)\n",
    "        coef2, state2 = Sminus(*Splus(1, np.copy(statei), (i+1)%L), i)\n",
    "        #coef3, state3 = Sz(*Sz(1, np.copy(statei), i+1), i)\n",
    "        if np.array_equal(state1, statej): #compare if (<i|H)|j> is 0 for every term\n",
    "            H += coef1*J*0.5\n",
    "        if np.array_equal(state2, statej):\n",
    "            H += coef2*J*0.5\n",
    "        #if np.array_equal(state3, statej):\n",
    "        #    H += coef3 * J\n",
    "    return H\n",
    "\n",
    "def HamiltonianOpen(J, statei, L, statej, s):\n",
    "    H = 0\n",
    "    # if (np.array_equal(statei, statej)): # is in HamiltonianDiag\n",
    "    #     for i in range(L):\n",
    "    #         H += statei[i]*statei[(i+1)%L] * J\n",
    "            #H += Sz(*Sz(1, np.copy(statei), (i+1)%L), i)[0] * J\n",
    "    for i in range(L-1): #apply the operators to every site until L-1\n",
    "        coef1, state1 = Splus(*Sminus(1, np.copy(statei),(i+1)%L), i)\n",
    "        coef2, state2 = Sminus(*Splus(1, np.copy(statei), (i+1)%L), i)\n",
    "        #coef3, state3 = Sz(*Sz(1, np.copy(statei), i+1), i)\n",
    "        if np.array_equal(state1, statej): #compare if (<i|H)|j> is 0 for every term\n",
    "            H += coef1*J*0.5\n",
    "        if np.array_equal(state2, statej):\n",
    "            H += coef2*J*0.5\n",
    "        #if np.array_equal(state3, statej):\n",
    "        #    H += coef3 * J\n",
    "    return H\n",
    "\n",
    "def HamiltonianDiag(J, statei, L):\n",
    "    H = 0\n",
    "    for i in range(L):\n",
    "        H += statei[i]*statei[(i+1)%L] * J\n",
    "    return H\n",
    "\n",
    "def HamiltonianDiagOpen(J, statei, L):\n",
    "    H = 0\n",
    "    for i in range(L-1):\n",
    "        H += statei[i]*statei[(i+1)%L] * J\n",
    "    return H\n",
    "\n",
    "\n",
    "def calcMatrix(Basis, J, L, s):# calculate the basis by calculating the hamiltonian with all combination from the basis\n",
    "    Matrix = np.empty((len(Basis),len(Basis)))\n",
    "    for i in range(len(Basis)):\n",
    "        Matrix[i,i] = HamiltonianDiag(J, Basis[i], L)\n",
    "    for i, j in it.permutations(range(len(Basis)), 2):\n",
    "        Matrix[i,j] = Hamiltonian(J, Basis[i], L, Basis[j], s)\n",
    "    return Matrix \n",
    "\n",
    "def calcMatrixOpen(Basis, J, L, s):# calculate the basis by calculating the hamiltonian with all combination from the basis\n",
    "    Matrix = np.empty((len(Basis),len(Basis)))\n",
    "    for i in range(len(Basis)):\n",
    "        Matrix[i,i] = HamiltonianDiagOpen(J, Basis[i], L)\n",
    "    for i, j in it.permutations(range(len(Basis)), 2):\n",
    "        Matrix[i,j] = HamiltonianOpen(J, Basis[i], L, Basis[j], s)\n",
    "    return Matrix \n",
    "\n",
    "def hFields(statei, L, h):\n",
    "    return np.sum(np.multiply(statei,h))\n",
    "\n",
    "def calcMatrixOpenWField(Basis, J, L, s, h):# calculate the basis by calculating the hamiltonian with all combination from the basis\n",
    "    Matrix = np.empty((len(Basis),len(Basis)))\n",
    "    for i in range(len(Basis)):\n",
    "        Matrix[i,i] = HamiltonianDiagOpen(J, Basis[i], L) + hFields(Basis[i], L, h)\n",
    "    for i, j in it.permutations(range(len(Basis)), 2):\n",
    "        Matrix[i,j] = HamiltonianOpen(J, Basis[i], L, Basis[j], s)  \n",
    "    return Matrix "
   ]
  },
  {
   "cell_type": "code",
   "execution_count": 3,
   "metadata": {},
   "outputs": [],
   "source": [
    "L = 10\n",
    "s = 0.5\n",
    "J = 1\n",
    "\n",
    "# calcMatrix(genBasis(L,s), J, L, s)"
   ]
  },
  {
   "cell_type": "code",
   "execution_count": 4,
   "metadata": {},
   "outputs": [],
   "source": [
    "# ham = calcMatrixOpen(genBasis(L,s), J, L, s)\n",
    "\n"
   ]
  },
  {
   "cell_type": "code",
   "execution_count": 5,
   "metadata": {},
   "outputs": [],
   "source": [
    "h = np.random.uniform(low = -0.5,high=0.5,size= L)\n",
    "\n",
    "ham = calcMatrixOpenWField(genBasis(L,s),J,L,s,h)"
   ]
  },
  {
   "cell_type": "code",
   "execution_count": 6,
   "metadata": {},
   "outputs": [
    {
     "name": "stdout",
     "output_type": "stream",
     "text": [
      "1024\n"
     ]
    },
    {
     "data": {
      "text/plain": [
       "[<matplotlib.lines.Line2D at 0x7f6eb3bd21a0>]"
      ]
     },
     "execution_count": 6,
     "metadata": {},
     "output_type": "execute_result"
    },
    {
     "data": {
      "image/png": "[encoded data removed]",
      "text/plain": [
       "<Figure size 432x288 with 1 Axes>"
      ]
     },
     "metadata": {
      "needs_background": "light"
     },
     "output_type": "display_data"
    }
   ],
   "source": [
    "import matplotlib.pyplot as plt\n",
    "w, v = np.linalg.eig(ham)\n",
    "\n",
    "print(len(w))\n",
    "plt.plot(sorted(w))"
   ]
  },
  {
   "cell_type": "code",
   "execution_count": 7,
   "metadata": {},
   "outputs": [],
   "source": [
    "import itertools as it\n",
    "\n",
    "def projection(lA, lB, state):\n",
    "    return np.reshape(state, (2**int(lA),2**int(lB)))\n",
    "\n",
    "\n",
    "def entropy(state, lA, lB):\n",
    "    T = projection(lA, lB, state)\n",
    "    TTev = np.linalg.eigvals(np.matmul(T, np.transpose(T)))\n",
    "    return - np.sum(np.multiply(np.power(TTev,2), np.log(np.power(TTev,2))))"
   ]
  },
  {
   "cell_type": "code",
   "execution_count": 8,
   "metadata": {},
   "outputs": [
    {
     "name": "stdout",
     "output_type": "stream",
     "text": [
      "(0.6156423384646856-2.1391615017647675e-61j)\n"
     ]
    }
   ],
   "source": [
    "# print(v[2])\n",
    "# print(projection(L/2, L/2, v[2]))\n",
    "print(entropy(v[1], L/2, L/2))"
   ]
  },
  {
   "cell_type": "code",
   "execution_count": 9,
   "metadata": {},
   "outputs": [
    {
     "name": "stderr",
     "output_type": "stream",
     "text": [
      "/tmp/ipykernel_5748/2008119266.py:10: RuntimeWarning: divide by zero encountered in log\n",
      "  return - np.sum(np.multiply(np.power(TTev,2), np.log(np.power(TTev,2))))\n",
      "/tmp/ipykernel_5748/2008119266.py:10: RuntimeWarning: invalid value encountered in multiply\n",
      "  return - np.sum(np.multiply(np.power(TTev,2), np.log(np.power(TTev,2))))\n"
     ]
    }
   ],
   "source": [
    "entro = np.array([entropy(eState, L/2, L/2) for eState in v])"
   ]
  },
  {
   "cell_type": "code",
   "execution_count": 10,
   "metadata": {},
   "outputs": [
    {
     "name": "stderr",
     "output_type": "stream",
     "text": [
      "/usr/lib/python3.10/site-packages/matplotlib/collections.py:196: ComplexWarning: Casting complex values to real discards the imaginary part\n",
      "  offsets = np.asanyarray(offsets, float)\n"
     ]
    },
    {
     "data": {
      "text/plain": [
       "Text(0.5, 0, 'eigenvalue')"
      ]
     },
     "execution_count": 10,
     "metadata": {},
     "output_type": "execute_result"
    },
    {
     "data": {
      "image/png": "[encoded data removed]",
      "text/plain": [
       "<Figure size 432x288 with 1 Axes>"
      ]
     },
     "metadata": {
      "needs_background": "light"
     },
     "output_type": "display_data"
    }
   ],
   "source": [
    "import matplotlib.pyplot as plt\n",
    "\n",
    "plt.scatter(w, entro)\n",
    "# plt.ylim((-1,-0.2))\n",
    "plt.ylabel(\"entropy\")\n",
    "plt.xlabel(\"eigenvalue\")"
   ]
  }
 ],
 "metadata": {
  "interpreter": {
   "hash": "916dbcbb3f70747c44a77c7bcd40155683ae19c65e1c03b4aa3499c5328201f1"
  },
  "kernelspec": {
   "display_name": "Python 3.8.10 64-bit",
   "language": "python",
   "name": "python3"
  },
  "language_info": {
   "codemirror_mode": {
    "name": "ipython",
    "version": 3
   },
   "file_extension": ".py",
   "mimetype": "text/x-python",
   "name": "python",
   "nbconvert_exporter": "python",
   "pygments_lexer": "ipython3",
   "version": "3.10.4"
  },
  "orig_nbformat": 4
 },
 "nbformat": 4,
 "nbformat_minor": 2
}
