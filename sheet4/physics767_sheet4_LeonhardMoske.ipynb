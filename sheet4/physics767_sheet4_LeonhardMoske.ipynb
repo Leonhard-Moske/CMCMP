{
 "cells": [
  {
   "cell_type": "code",
   "execution_count": 1,
   "metadata": {},
   "outputs": [],
   "source": [
    "import numpy as np\n",
    "import scipy\n",
    "import matplotlib.pyplot as plt\n",
    "import itertools\n",
    "\n",
    "\n",
    "hopping=1\n",
    "\n",
    "\n",
    "def make_basis(L):\n",
    "    basis = []\n",
    "    for s in itertools.product((0,1), repeat=L):\n",
    "        basis.append(s)\n",
    "    return basis"
   ]
  },
  {
   "cell_type": "code",
   "execution_count": 2,
   "metadata": {},
   "outputs": [],
   "source": [
    "def density(state, site):\n",
    "    return state[site]\n",
    "\n",
    "def cdag(state,site):\n",
    "    if state[site]==1:\n",
    "        return None\n",
    "    else:\n",
    "        retstate = list(state)\n",
    "        retstate[site]=1\n",
    "        retstate=tuple(retstate)\n",
    "        nfermions = sum(state[:site])\n",
    "        \n",
    "        if nfermions%2==0:\n",
    "            return (retstate, 1)\n",
    "        else:\n",
    "            return (retstate, -1)\n",
    "        \n",
    "def c(state,site):\n",
    "    if state[site]==0:\n",
    "        return None\n",
    "    else:\n",
    "        retstate = list(state)\n",
    "        retstate[site]=0\n",
    "        retstate=tuple(retstate)\n",
    "        nfermions = sum(state[:site])\n",
    "        \n",
    "        if nfermions%2==0:\n",
    "            return (retstate, 1)\n",
    "        else:\n",
    "            return (retstate, -1)\n",
    "            \n",
    "\n",
    "def createH(L):\n",
    "    basis = make_basis(L)\n",
    "    dim=len(basis)\n",
    "    H=np.zeros((dim,dim))\n",
    "    \n",
    "    for row,s in enumerate(basis):\n",
    "        diagmatel = 0.0\n",
    "        for i in range(L):\n",
    "            diagmatel+= density(s,i)*density(s,(i+1)%L)\n",
    "        H[row,row]=diagmatel\n",
    "        \n",
    "        for i in range(L):\n",
    "            ret = c(s,(i+1)%L)\n",
    "            if ret!=None:\n",
    "                s2,sign = ret\n",
    "                \n",
    "                ret2 = cdag(s2,i)\n",
    "                if ret2!=None:\n",
    "                    s3,sign2=ret2\n",
    "                    \n",
    "                    col=basis.index(s3)\n",
    "                    H[row,col]=sign*sign2*hopping\n",
    "                    H[col,row]=sign*sign2*hopping\n",
    "    return H\n",
    "        \n",
    "        "
   ]
  },
  {
   "cell_type": "code",
   "execution_count": 3,
   "metadata": {},
   "outputs": [],
   "source": [
    "def translate(state):\n",
    "    state2 = tuple(list(state[1:])+[state[0]])\n",
    "    parity = sum(state[1:])\n",
    "    if state[0]==1 and parity%2!=0:\n",
    "        return state2, -1\n",
    "    else:\n",
    "        return state2, 1"
   ]
  },
  {
   "cell_type": "code",
   "execution_count": 4,
   "metadata": {},
   "outputs": [
    {
     "name": "stdout",
     "output_type": "stream",
     "text": [
      "(1, 0, 0, 1)\n",
      "(0, 0, 1, 1)\n",
      "-1\n"
     ]
    }
   ],
   "source": [
    "L = 4\n",
    "\n",
    "testindex = 9\n",
    "\n",
    "print(make_basis(L)[testindex])\n",
    "print(translate(make_basis(L)[testindex])[0])\n",
    "print(translate(make_basis(L)[testindex])[1])"
   ]
  },
  {
   "cell_type": "code",
   "execution_count": 5,
   "metadata": {},
   "outputs": [],
   "source": [
    "import itertools as it\n",
    "\n",
    "def translateOp(statei, statej, params = None):\n",
    "    if np.all(np.equal(statei,translate(statej)[0])):\n",
    "        return translate(statej)[1]\n",
    "    else:\n",
    "        return 0\n",
    "\n",
    "def genMatrix(operator, basis):\n",
    "    Matrix = np.empty((len(basis), len(basis)))\n",
    "    for i, j in it.product(range(len(basis)), repeat=2):\n",
    "        Matrix[i,j] = operator(basis[i],basis[j])\n",
    "    return Matrix"
   ]
  },
  {
   "cell_type": "code",
   "execution_count": 6,
   "metadata": {},
   "outputs": [
    {
     "name": "stdout",
     "output_type": "stream",
     "text": [
      "[[ 1.  0.  0.  0.  0.  0.  0.  0.  0.  0.  0.  0.  0.  0.  0.  0.]\n",
      " [ 0.  0.  0.  0.  0.  0.  0.  0.  1.  0.  0.  0.  0.  0.  0.  0.]\n",
      " [ 0.  1.  0.  0.  0.  0.  0.  0.  0.  0.  0.  0.  0.  0.  0.  0.]\n",
      " [ 0.  0.  0.  0.  0.  0.  0.  0.  0. -1.  0.  0.  0.  0.  0.  0.]\n",
      " [ 0.  0.  1.  0.  0.  0.  0.  0.  0.  0.  0.  0.  0.  0.  0.  0.]\n",
      " [ 0.  0.  0.  0.  0.  0.  0.  0.  0.  0. -1.  0.  0.  0.  0.  0.]\n",
      " [ 0.  0.  0.  1.  0.  0.  0.  0.  0.  0.  0.  0.  0.  0.  0.  0.]\n",
      " [ 0.  0.  0.  0.  0.  0.  0.  0.  0.  0.  0.  1.  0.  0.  0.  0.]\n",
      " [ 0.  0.  0.  0.  1.  0.  0.  0.  0.  0.  0.  0.  0.  0.  0.  0.]\n",
      " [ 0.  0.  0.  0.  0.  0.  0.  0.  0.  0.  0.  0. -1.  0.  0.  0.]\n",
      " [ 0.  0.  0.  0.  0.  1.  0.  0.  0.  0.  0.  0.  0.  0.  0.  0.]\n",
      " [ 0.  0.  0.  0.  0.  0.  0.  0.  0.  0.  0.  0.  0.  1.  0.  0.]\n",
      " [ 0.  0.  0.  0.  0.  0.  1.  0.  0.  0.  0.  0.  0.  0.  0.  0.]\n",
      " [ 0.  0.  0.  0.  0.  0.  0.  0.  0.  0.  0.  0.  0.  0.  1.  0.]\n",
      " [ 0.  0.  0.  0.  0.  0.  0.  1.  0.  0.  0.  0.  0.  0.  0.  0.]\n",
      " [ 0.  0.  0.  0.  0.  0.  0.  0.  0.  0.  0.  0.  0.  0.  0. -1.]]\n"
     ]
    }
   ],
   "source": [
    "print(genMatrix(translateOp,make_basis(L)))"
   ]
  },
  {
   "cell_type": "code",
   "execution_count": 7,
   "metadata": {},
   "outputs": [
    {
     "name": "stdout",
     "output_type": "stream",
     "text": [
      "[[0. 0. 0. 0. 0. 0. 0. 0. 0. 0. 0. 0. 0. 0. 0. 0.]\n",
      " [0. 0. 0. 0. 0. 0. 0. 0. 0. 0. 0. 0. 0. 0. 0. 0.]\n",
      " [0. 0. 0. 0. 0. 0. 0. 0. 0. 0. 0. 0. 0. 0. 0. 0.]\n",
      " [0. 0. 0. 0. 0. 0. 0. 0. 0. 0. 0. 0. 0. 0. 0. 0.]\n",
      " [0. 0. 0. 0. 0. 0. 0. 0. 0. 0. 0. 0. 0. 0. 0. 0.]\n",
      " [0. 0. 0. 0. 0. 0. 0. 0. 0. 0. 0. 0. 0. 0. 0. 0.]\n",
      " [0. 0. 0. 0. 0. 0. 0. 0. 0. 0. 0. 0. 0. 0. 0. 0.]\n",
      " [0. 0. 0. 0. 0. 0. 0. 0. 0. 0. 0. 0. 0. 0. 0. 0.]\n",
      " [0. 0. 0. 0. 0. 0. 0. 0. 0. 0. 0. 0. 0. 0. 0. 0.]\n",
      " [0. 0. 0. 0. 0. 0. 0. 0. 0. 0. 0. 0. 0. 0. 0. 0.]\n",
      " [0. 0. 0. 0. 0. 0. 0. 0. 0. 0. 0. 0. 0. 0. 0. 0.]\n",
      " [0. 0. 0. 0. 0. 0. 0. 0. 0. 0. 0. 0. 0. 0. 0. 0.]\n",
      " [0. 0. 0. 0. 0. 0. 0. 0. 0. 0. 0. 0. 0. 0. 0. 0.]\n",
      " [0. 0. 0. 0. 0. 0. 0. 0. 0. 0. 0. 0. 0. 0. 0. 0.]\n",
      " [0. 0. 0. 0. 0. 0. 0. 0. 0. 0. 0. 0. 0. 0. 0. 0.]\n",
      " [0. 0. 0. 0. 0. 0. 0. 0. 0. 0. 0. 0. 0. 0. 0. 0.]]\n",
      "[[1. 0. 0. 0. 0. 0. 0. 0. 0. 0. 0. 0. 0. 0. 0. 0.]\n",
      " [0. 1. 0. 0. 0. 0. 0. 0. 0. 0. 0. 0. 0. 0. 0. 0.]\n",
      " [0. 0. 1. 0. 0. 0. 0. 0. 0. 0. 0. 0. 0. 0. 0. 0.]\n",
      " [0. 0. 0. 1. 0. 0. 0. 0. 0. 0. 0. 0. 0. 0. 0. 0.]\n",
      " [0. 0. 0. 0. 1. 0. 0. 0. 0. 0. 0. 0. 0. 0. 0. 0.]\n",
      " [0. 0. 0. 0. 0. 1. 0. 0. 0. 0. 0. 0. 0. 0. 0. 0.]\n",
      " [0. 0. 0. 0. 0. 0. 1. 0. 0. 0. 0. 0. 0. 0. 0. 0.]\n",
      " [0. 0. 0. 0. 0. 0. 0. 1. 0. 0. 0. 0. 0. 0. 0. 0.]\n",
      " [0. 0. 0. 0. 0. 0. 0. 0. 1. 0. 0. 0. 0. 0. 0. 0.]\n",
      " [0. 0. 0. 0. 0. 0. 0. 0. 0. 1. 0. 0. 0. 0. 0. 0.]\n",
      " [0. 0. 0. 0. 0. 0. 0. 0. 0. 0. 1. 0. 0. 0. 0. 0.]\n",
      " [0. 0. 0. 0. 0. 0. 0. 0. 0. 0. 0. 1. 0. 0. 0. 0.]\n",
      " [0. 0. 0. 0. 0. 0. 0. 0. 0. 0. 0. 0. 1. 0. 0. 0.]\n",
      " [0. 0. 0. 0. 0. 0. 0. 0. 0. 0. 0. 0. 0. 1. 0. 0.]\n",
      " [0. 0. 0. 0. 0. 0. 0. 0. 0. 0. 0. 0. 0. 0. 1. 0.]\n",
      " [0. 0. 0. 0. 0. 0. 0. 0. 0. 0. 0. 0. 0. 0. 0. 1.]]\n"
     ]
    }
   ],
   "source": [
    "print(np.matmul(genMatrix(translateOp,make_basis(L)),createH(L)) - np.matmul(createH(L),genMatrix(translateOp,make_basis(L))))\n",
    "print(np.matmul(np.transpose(genMatrix(translateOp,make_basis(L))),genMatrix(translateOp,make_basis(L))))\n"
   ]
  },
  {
   "cell_type": "code",
   "execution_count": 8,
   "metadata": {},
   "outputs": [
    {
     "name": "stdout",
     "output_type": "stream",
     "text": [
      "[[ 0.  0.  0.  0.  0.  0.  0.  0.  0.  0.  0.  0.  0.  0.  0.  0.]\n",
      " [ 0.  0.  1.  0.  0.  0.  0.  0.  1.  0.  0.  0.  0.  0.  0.  0.]\n",
      " [ 0.  1.  0.  0.  1.  0.  0.  0.  0.  0.  0.  0.  0.  0.  0.  0.]\n",
      " [ 0.  0.  0.  1.  0.  1.  0.  0.  0.  0. -1.  0.  0.  0.  0.  0.]\n",
      " [ 0.  0.  1.  0.  0.  0.  0.  0.  1.  0.  0.  0.  0.  0.  0.  0.]\n",
      " [ 0.  0.  0.  1.  0.  0.  1.  0.  0.  1.  0.  0. -1.  0.  0.  0.]\n",
      " [ 0.  0.  0.  0.  0.  1.  1.  0.  0.  0.  1.  0.  0.  0.  0.  0.]\n",
      " [ 0.  0.  0.  0.  0.  0.  0.  2.  0.  0.  0.  1.  0.  0.  1.  0.]\n",
      " [ 0.  1.  0.  0.  1.  0.  0.  0.  0.  0.  0.  0.  0.  0.  0.  0.]\n",
      " [ 0.  0.  0.  0.  0.  1.  0.  0.  0.  1.  1.  0.  0.  0.  0.  0.]\n",
      " [ 0.  0.  0. -1.  0.  0.  1.  0.  0.  1.  0.  0.  1.  0.  0.  0.]\n",
      " [ 0.  0.  0.  0.  0.  0.  0.  1.  0.  0.  0.  2.  0.  1.  0.  0.]\n",
      " [ 0.  0.  0.  0.  0. -1.  0.  0.  0.  0.  1.  0.  1.  0.  0.  0.]\n",
      " [ 0.  0.  0.  0.  0.  0.  0.  0.  0.  0.  0.  1.  0.  2.  1.  0.]\n",
      " [ 0.  0.  0.  0.  0.  0.  0.  1.  0.  0.  0.  0.  0.  1.  2.  0.]\n",
      " [ 0.  0.  0.  0.  0.  0.  0.  0.  0.  0.  0.  0.  0.  0.  0.  4.]]\n",
      "[[ 0.  0.  0.  0.  0.  0.  0.  0.  0.  0.  0.  0.  0.  0.  0.  0.]\n",
      " [ 0.  0.  1.  0.  0.  0.  0.  0.  1.  0.  0.  0.  0.  0.  0.  0.]\n",
      " [ 0.  1.  0.  0.  1.  0.  0.  0.  0.  0.  0.  0.  0.  0.  0.  0.]\n",
      " [ 0.  0.  0.  1.  0.  1.  0.  0.  0.  0. -1.  0.  0.  0.  0.  0.]\n",
      " [ 0.  0.  1.  0.  0.  0.  0.  0.  1.  0.  0.  0.  0.  0.  0.  0.]\n",
      " [ 0.  0.  0.  1.  0.  0.  1.  0.  0.  1.  0.  0. -1.  0.  0.  0.]\n",
      " [ 0.  0.  0.  0.  0.  1.  1.  0.  0.  0.  1.  0.  0.  0.  0.  0.]\n",
      " [ 0.  0.  0.  0.  0.  0.  0.  2.  0.  0.  0.  1.  0.  0.  1.  0.]\n",
      " [ 0.  1.  0.  0.  1.  0.  0.  0.  0.  0.  0.  0.  0.  0.  0.  0.]\n",
      " [ 0.  0.  0.  0.  0.  1.  0.  0.  0.  1.  1.  0.  0.  0.  0.  0.]\n",
      " [ 0.  0.  0. -1.  0.  0.  1.  0.  0.  1.  0.  0.  1.  0.  0.  0.]\n",
      " [ 0.  0.  0.  0.  0.  0.  0.  1.  0.  0.  0.  2.  0.  1.  0.  0.]\n",
      " [ 0.  0.  0.  0.  0. -1.  0.  0.  0.  0.  1.  0.  1.  0.  0.  0.]\n",
      " [ 0.  0.  0.  0.  0.  0.  0.  0.  0.  0.  0.  1.  0.  2.  1.  0.]\n",
      " [ 0.  0.  0.  0.  0.  0.  0.  1.  0.  0.  0.  0.  0.  1.  2.  0.]\n",
      " [ 0.  0.  0.  0.  0.  0.  0.  0.  0.  0.  0.  0.  0.  0.  0.  4.]]\n"
     ]
    }
   ],
   "source": [
    "print(np.matmul(np.transpose(genMatrix(translateOp,make_basis(L))),np.matmul(genMatrix(translateOp,make_basis(L)),createH(L))))\n",
    "print(createH(L))"
   ]
  },
  {
   "cell_type": "code",
   "execution_count": 9,
   "metadata": {},
   "outputs": [
    {
     "name": "stdout",
     "output_type": "stream",
     "text": [
      "[ 1. -1.  1. -1.]\n"
     ]
    },
    {
     "data": {
      "image/png": "[encoded data removed]",
      "text/plain": [
       "<Figure size 432x288 with 1 Axes>"
      ]
     },
     "metadata": {
      "needs_background": "light"
     },
     "output_type": "display_data"
    }
   ],
   "source": [
    "import matplotlib.pyplot as plt\n",
    "\n",
    "L = 2\n",
    "\n",
    "print(np.linalg.eigvals(genMatrix(translateOp,make_basis(L))))\n",
    "\n",
    "x = [z.real for z in np.linalg.eigvals(genMatrix(translateOp,make_basis(L)))]\n",
    "y = [z.imag for z in np.linalg.eigvals(genMatrix(translateOp,make_basis(L)))]\n",
    "\n",
    "circle = plt.Circle((0, 0), 1, color='k',fill = False)\n",
    "fig, ax = plt.subplots()\n",
    "ax.add_patch(circle)\n",
    "ax.scatter(x, y)\n",
    "plt.ylabel('Imaginary')\n",
    "plt.xlabel('Real')\n",
    "plt.grid()\n",
    "\n",
    "fig.show()"
   ]
  },
  {
   "cell_type": "code",
   "execution_count": 10,
   "metadata": {},
   "outputs": [],
   "source": [
    "def translate(state):\n",
    "    state2 = tuple(list(state[1:])+[state[0]])\n",
    "    parity = sum(state[1:])\n",
    "    if state[0]==1 and parity%2!=0:\n",
    "        return state2, 1 # neglet the sign\n",
    "    else:\n",
    "        return state2, 1"
   ]
  },
  {
   "cell_type": "code",
   "execution_count": 11,
   "metadata": {},
   "outputs": [
    {
     "data": {
      "text/latex": [
       "$\\displaystyle \\left[\\begin{matrix}0 & 0 & 0 & 0\\\\0 & 0 & 0 & 0\\\\0 & 0 & 0 & 0\\\\0 & 0 & 0 & 0\\end{matrix}\\right]$"
      ],
      "text/plain": [
       "Matrix([\n",
       "[0, 0, 0, 0],\n",
       "[0, 0, 0, 0],\n",
       "[0, 0, 0, 0],\n",
       "[0, 0, 0, 0]])"
      ]
     },
     "execution_count": 11,
     "metadata": {},
     "output_type": "execute_result"
    }
   ],
   "source": [
    "import sympy\n",
    "sympy.Matrix(np.matmul(genMatrix(translateOp,make_basis(L)),createH(L)) - np.matmul(createH(L),genMatrix(translateOp,make_basis(L))))\n"
   ]
  },
  {
   "cell_type": "code",
   "execution_count": 12,
   "metadata": {},
   "outputs": [],
   "source": [
    "def translate(state):\n",
    "    state2 = tuple(list(state[1:])+[state[0]])\n",
    "    parity = sum(state[1:])\n",
    "    if state[0]==1 and parity%2!=0:\n",
    "        return state2, -1\n",
    "    else:\n",
    "        return state2, 1"
   ]
  },
  {
   "cell_type": "markdown",
   "metadata": {},
   "source": [
    "## Exercise 11\n",
    "\n"
   ]
  },
  {
   "cell_type": "code",
   "execution_count": 13,
   "metadata": {},
   "outputs": [],
   "source": [
    "def make_spin_basis(L):\n",
    "    basis = []\n",
    "    for s in itertools.product((0,1), repeat=2*L):\n",
    "        basis.append(s)\n",
    "    return basis"
   ]
  },
  {
   "cell_type": "code",
   "execution_count": 14,
   "metadata": {},
   "outputs": [
    {
     "data": {
      "text/plain": [
       "[(0, 0, 0, 0, 0, 0, 0, 0),\n",
       " (0, 0, 0, 0, 0, 0, 0, 1),\n",
       " (0, 0, 0, 0, 0, 0, 1, 0),\n",
       " (0, 0, 0, 0, 0, 0, 1, 1),\n",
       " (0, 0, 0, 0, 0, 1, 0, 0),\n",
       " (0, 0, 0, 0, 0, 1, 0, 1),\n",
       " (0, 0, 0, 0, 0, 1, 1, 0),\n",
       " (0, 0, 0, 0, 0, 1, 1, 1),\n",
       " (0, 0, 0, 0, 1, 0, 0, 0),\n",
       " (0, 0, 0, 0, 1, 0, 0, 1),\n",
       " (0, 0, 0, 0, 1, 0, 1, 0),\n",
       " (0, 0, 0, 0, 1, 0, 1, 1),\n",
       " (0, 0, 0, 0, 1, 1, 0, 0),\n",
       " (0, 0, 0, 0, 1, 1, 0, 1),\n",
       " (0, 0, 0, 0, 1, 1, 1, 0),\n",
       " (0, 0, 0, 0, 1, 1, 1, 1),\n",
       " (0, 0, 0, 1, 0, 0, 0, 0),\n",
       " (0, 0, 0, 1, 0, 0, 0, 1),\n",
       " (0, 0, 0, 1, 0, 0, 1, 0),\n",
       " (0, 0, 0, 1, 0, 0, 1, 1),\n",
       " (0, 0, 0, 1, 0, 1, 0, 0),\n",
       " (0, 0, 0, 1, 0, 1, 0, 1),\n",
       " (0, 0, 0, 1, 0, 1, 1, 0),\n",
       " (0, 0, 0, 1, 0, 1, 1, 1),\n",
       " (0, 0, 0, 1, 1, 0, 0, 0),\n",
       " (0, 0, 0, 1, 1, 0, 0, 1),\n",
       " (0, 0, 0, 1, 1, 0, 1, 0),\n",
       " (0, 0, 0, 1, 1, 0, 1, 1),\n",
       " (0, 0, 0, 1, 1, 1, 0, 0),\n",
       " (0, 0, 0, 1, 1, 1, 0, 1),\n",
       " (0, 0, 0, 1, 1, 1, 1, 0),\n",
       " (0, 0, 0, 1, 1, 1, 1, 1),\n",
       " (0, 0, 1, 0, 0, 0, 0, 0),\n",
       " (0, 0, 1, 0, 0, 0, 0, 1),\n",
       " (0, 0, 1, 0, 0, 0, 1, 0),\n",
       " (0, 0, 1, 0, 0, 0, 1, 1),\n",
       " (0, 0, 1, 0, 0, 1, 0, 0),\n",
       " (0, 0, 1, 0, 0, 1, 0, 1),\n",
       " (0, 0, 1, 0, 0, 1, 1, 0),\n",
       " (0, 0, 1, 0, 0, 1, 1, 1),\n",
       " (0, 0, 1, 0, 1, 0, 0, 0),\n",
       " (0, 0, 1, 0, 1, 0, 0, 1),\n",
       " (0, 0, 1, 0, 1, 0, 1, 0),\n",
       " (0, 0, 1, 0, 1, 0, 1, 1),\n",
       " (0, 0, 1, 0, 1, 1, 0, 0),\n",
       " (0, 0, 1, 0, 1, 1, 0, 1),\n",
       " (0, 0, 1, 0, 1, 1, 1, 0),\n",
       " (0, 0, 1, 0, 1, 1, 1, 1),\n",
       " (0, 0, 1, 1, 0, 0, 0, 0),\n",
       " (0, 0, 1, 1, 0, 0, 0, 1),\n",
       " (0, 0, 1, 1, 0, 0, 1, 0),\n",
       " (0, 0, 1, 1, 0, 0, 1, 1),\n",
       " (0, 0, 1, 1, 0, 1, 0, 0),\n",
       " (0, 0, 1, 1, 0, 1, 0, 1),\n",
       " (0, 0, 1, 1, 0, 1, 1, 0),\n",
       " (0, 0, 1, 1, 0, 1, 1, 1),\n",
       " (0, 0, 1, 1, 1, 0, 0, 0),\n",
       " (0, 0, 1, 1, 1, 0, 0, 1),\n",
       " (0, 0, 1, 1, 1, 0, 1, 0),\n",
       " (0, 0, 1, 1, 1, 0, 1, 1),\n",
       " (0, 0, 1, 1, 1, 1, 0, 0),\n",
       " (0, 0, 1, 1, 1, 1, 0, 1),\n",
       " (0, 0, 1, 1, 1, 1, 1, 0),\n",
       " (0, 0, 1, 1, 1, 1, 1, 1),\n",
       " (0, 1, 0, 0, 0, 0, 0, 0),\n",
       " (0, 1, 0, 0, 0, 0, 0, 1),\n",
       " (0, 1, 0, 0, 0, 0, 1, 0),\n",
       " (0, 1, 0, 0, 0, 0, 1, 1),\n",
       " (0, 1, 0, 0, 0, 1, 0, 0),\n",
       " (0, 1, 0, 0, 0, 1, 0, 1),\n",
       " (0, 1, 0, 0, 0, 1, 1, 0),\n",
       " (0, 1, 0, 0, 0, 1, 1, 1),\n",
       " (0, 1, 0, 0, 1, 0, 0, 0),\n",
       " (0, 1, 0, 0, 1, 0, 0, 1),\n",
       " (0, 1, 0, 0, 1, 0, 1, 0),\n",
       " (0, 1, 0, 0, 1, 0, 1, 1),\n",
       " (0, 1, 0, 0, 1, 1, 0, 0),\n",
       " (0, 1, 0, 0, 1, 1, 0, 1),\n",
       " (0, 1, 0, 0, 1, 1, 1, 0),\n",
       " (0, 1, 0, 0, 1, 1, 1, 1),\n",
       " (0, 1, 0, 1, 0, 0, 0, 0),\n",
       " (0, 1, 0, 1, 0, 0, 0, 1),\n",
       " (0, 1, 0, 1, 0, 0, 1, 0),\n",
       " (0, 1, 0, 1, 0, 0, 1, 1),\n",
       " (0, 1, 0, 1, 0, 1, 0, 0),\n",
       " (0, 1, 0, 1, 0, 1, 0, 1),\n",
       " (0, 1, 0, 1, 0, 1, 1, 0),\n",
       " (0, 1, 0, 1, 0, 1, 1, 1),\n",
       " (0, 1, 0, 1, 1, 0, 0, 0),\n",
       " (0, 1, 0, 1, 1, 0, 0, 1),\n",
       " (0, 1, 0, 1, 1, 0, 1, 0),\n",
       " (0, 1, 0, 1, 1, 0, 1, 1),\n",
       " (0, 1, 0, 1, 1, 1, 0, 0),\n",
       " (0, 1, 0, 1, 1, 1, 0, 1),\n",
       " (0, 1, 0, 1, 1, 1, 1, 0),\n",
       " (0, 1, 0, 1, 1, 1, 1, 1),\n",
       " (0, 1, 1, 0, 0, 0, 0, 0),\n",
       " (0, 1, 1, 0, 0, 0, 0, 1),\n",
       " (0, 1, 1, 0, 0, 0, 1, 0),\n",
       " (0, 1, 1, 0, 0, 0, 1, 1),\n",
       " (0, 1, 1, 0, 0, 1, 0, 0),\n",
       " (0, 1, 1, 0, 0, 1, 0, 1),\n",
       " (0, 1, 1, 0, 0, 1, 1, 0),\n",
       " (0, 1, 1, 0, 0, 1, 1, 1),\n",
       " (0, 1, 1, 0, 1, 0, 0, 0),\n",
       " (0, 1, 1, 0, 1, 0, 0, 1),\n",
       " (0, 1, 1, 0, 1, 0, 1, 0),\n",
       " (0, 1, 1, 0, 1, 0, 1, 1),\n",
       " (0, 1, 1, 0, 1, 1, 0, 0),\n",
       " (0, 1, 1, 0, 1, 1, 0, 1),\n",
       " (0, 1, 1, 0, 1, 1, 1, 0),\n",
       " (0, 1, 1, 0, 1, 1, 1, 1),\n",
       " (0, 1, 1, 1, 0, 0, 0, 0),\n",
       " (0, 1, 1, 1, 0, 0, 0, 1),\n",
       " (0, 1, 1, 1, 0, 0, 1, 0),\n",
       " (0, 1, 1, 1, 0, 0, 1, 1),\n",
       " (0, 1, 1, 1, 0, 1, 0, 0),\n",
       " (0, 1, 1, 1, 0, 1, 0, 1),\n",
       " (0, 1, 1, 1, 0, 1, 1, 0),\n",
       " (0, 1, 1, 1, 0, 1, 1, 1),\n",
       " (0, 1, 1, 1, 1, 0, 0, 0),\n",
       " (0, 1, 1, 1, 1, 0, 0, 1),\n",
       " (0, 1, 1, 1, 1, 0, 1, 0),\n",
       " (0, 1, 1, 1, 1, 0, 1, 1),\n",
       " (0, 1, 1, 1, 1, 1, 0, 0),\n",
       " (0, 1, 1, 1, 1, 1, 0, 1),\n",
       " (0, 1, 1, 1, 1, 1, 1, 0),\n",
       " (0, 1, 1, 1, 1, 1, 1, 1),\n",
       " (1, 0, 0, 0, 0, 0, 0, 0),\n",
       " (1, 0, 0, 0, 0, 0, 0, 1),\n",
       " (1, 0, 0, 0, 0, 0, 1, 0),\n",
       " (1, 0, 0, 0, 0, 0, 1, 1),\n",
       " (1, 0, 0, 0, 0, 1, 0, 0),\n",
       " (1, 0, 0, 0, 0, 1, 0, 1),\n",
       " (1, 0, 0, 0, 0, 1, 1, 0),\n",
       " (1, 0, 0, 0, 0, 1, 1, 1),\n",
       " (1, 0, 0, 0, 1, 0, 0, 0),\n",
       " (1, 0, 0, 0, 1, 0, 0, 1),\n",
       " (1, 0, 0, 0, 1, 0, 1, 0),\n",
       " (1, 0, 0, 0, 1, 0, 1, 1),\n",
       " (1, 0, 0, 0, 1, 1, 0, 0),\n",
       " (1, 0, 0, 0, 1, 1, 0, 1),\n",
       " (1, 0, 0, 0, 1, 1, 1, 0),\n",
       " (1, 0, 0, 0, 1, 1, 1, 1),\n",
       " (1, 0, 0, 1, 0, 0, 0, 0),\n",
       " (1, 0, 0, 1, 0, 0, 0, 1),\n",
       " (1, 0, 0, 1, 0, 0, 1, 0),\n",
       " (1, 0, 0, 1, 0, 0, 1, 1),\n",
       " (1, 0, 0, 1, 0, 1, 0, 0),\n",
       " (1, 0, 0, 1, 0, 1, 0, 1),\n",
       " (1, 0, 0, 1, 0, 1, 1, 0),\n",
       " (1, 0, 0, 1, 0, 1, 1, 1),\n",
       " (1, 0, 0, 1, 1, 0, 0, 0),\n",
       " (1, 0, 0, 1, 1, 0, 0, 1),\n",
       " (1, 0, 0, 1, 1, 0, 1, 0),\n",
       " (1, 0, 0, 1, 1, 0, 1, 1),\n",
       " (1, 0, 0, 1, 1, 1, 0, 0),\n",
       " (1, 0, 0, 1, 1, 1, 0, 1),\n",
       " (1, 0, 0, 1, 1, 1, 1, 0),\n",
       " (1, 0, 0, 1, 1, 1, 1, 1),\n",
       " (1, 0, 1, 0, 0, 0, 0, 0),\n",
       " (1, 0, 1, 0, 0, 0, 0, 1),\n",
       " (1, 0, 1, 0, 0, 0, 1, 0),\n",
       " (1, 0, 1, 0, 0, 0, 1, 1),\n",
       " (1, 0, 1, 0, 0, 1, 0, 0),\n",
       " (1, 0, 1, 0, 0, 1, 0, 1),\n",
       " (1, 0, 1, 0, 0, 1, 1, 0),\n",
       " (1, 0, 1, 0, 0, 1, 1, 1),\n",
       " (1, 0, 1, 0, 1, 0, 0, 0),\n",
       " (1, 0, 1, 0, 1, 0, 0, 1),\n",
       " (1, 0, 1, 0, 1, 0, 1, 0),\n",
       " (1, 0, 1, 0, 1, 0, 1, 1),\n",
       " (1, 0, 1, 0, 1, 1, 0, 0),\n",
       " (1, 0, 1, 0, 1, 1, 0, 1),\n",
       " (1, 0, 1, 0, 1, 1, 1, 0),\n",
       " (1, 0, 1, 0, 1, 1, 1, 1),\n",
       " (1, 0, 1, 1, 0, 0, 0, 0),\n",
       " (1, 0, 1, 1, 0, 0, 0, 1),\n",
       " (1, 0, 1, 1, 0, 0, 1, 0),\n",
       " (1, 0, 1, 1, 0, 0, 1, 1),\n",
       " (1, 0, 1, 1, 0, 1, 0, 0),\n",
       " (1, 0, 1, 1, 0, 1, 0, 1),\n",
       " (1, 0, 1, 1, 0, 1, 1, 0),\n",
       " (1, 0, 1, 1, 0, 1, 1, 1),\n",
       " (1, 0, 1, 1, 1, 0, 0, 0),\n",
       " (1, 0, 1, 1, 1, 0, 0, 1),\n",
       " (1, 0, 1, 1, 1, 0, 1, 0),\n",
       " (1, 0, 1, 1, 1, 0, 1, 1),\n",
       " (1, 0, 1, 1, 1, 1, 0, 0),\n",
       " (1, 0, 1, 1, 1, 1, 0, 1),\n",
       " (1, 0, 1, 1, 1, 1, 1, 0),\n",
       " (1, 0, 1, 1, 1, 1, 1, 1),\n",
       " (1, 1, 0, 0, 0, 0, 0, 0),\n",
       " (1, 1, 0, 0, 0, 0, 0, 1),\n",
       " (1, 1, 0, 0, 0, 0, 1, 0),\n",
       " (1, 1, 0, 0, 0, 0, 1, 1),\n",
       " (1, 1, 0, 0, 0, 1, 0, 0),\n",
       " (1, 1, 0, 0, 0, 1, 0, 1),\n",
       " (1, 1, 0, 0, 0, 1, 1, 0),\n",
       " (1, 1, 0, 0, 0, 1, 1, 1),\n",
       " (1, 1, 0, 0, 1, 0, 0, 0),\n",
       " (1, 1, 0, 0, 1, 0, 0, 1),\n",
       " (1, 1, 0, 0, 1, 0, 1, 0),\n",
       " (1, 1, 0, 0, 1, 0, 1, 1),\n",
       " (1, 1, 0, 0, 1, 1, 0, 0),\n",
       " (1, 1, 0, 0, 1, 1, 0, 1),\n",
       " (1, 1, 0, 0, 1, 1, 1, 0),\n",
       " (1, 1, 0, 0, 1, 1, 1, 1),\n",
       " (1, 1, 0, 1, 0, 0, 0, 0),\n",
       " (1, 1, 0, 1, 0, 0, 0, 1),\n",
       " (1, 1, 0, 1, 0, 0, 1, 0),\n",
       " (1, 1, 0, 1, 0, 0, 1, 1),\n",
       " (1, 1, 0, 1, 0, 1, 0, 0),\n",
       " (1, 1, 0, 1, 0, 1, 0, 1),\n",
       " (1, 1, 0, 1, 0, 1, 1, 0),\n",
       " (1, 1, 0, 1, 0, 1, 1, 1),\n",
       " (1, 1, 0, 1, 1, 0, 0, 0),\n",
       " (1, 1, 0, 1, 1, 0, 0, 1),\n",
       " (1, 1, 0, 1, 1, 0, 1, 0),\n",
       " (1, 1, 0, 1, 1, 0, 1, 1),\n",
       " (1, 1, 0, 1, 1, 1, 0, 0),\n",
       " (1, 1, 0, 1, 1, 1, 0, 1),\n",
       " (1, 1, 0, 1, 1, 1, 1, 0),\n",
       " (1, 1, 0, 1, 1, 1, 1, 1),\n",
       " (1, 1, 1, 0, 0, 0, 0, 0),\n",
       " (1, 1, 1, 0, 0, 0, 0, 1),\n",
       " (1, 1, 1, 0, 0, 0, 1, 0),\n",
       " (1, 1, 1, 0, 0, 0, 1, 1),\n",
       " (1, 1, 1, 0, 0, 1, 0, 0),\n",
       " (1, 1, 1, 0, 0, 1, 0, 1),\n",
       " (1, 1, 1, 0, 0, 1, 1, 0),\n",
       " (1, 1, 1, 0, 0, 1, 1, 1),\n",
       " (1, 1, 1, 0, 1, 0, 0, 0),\n",
       " (1, 1, 1, 0, 1, 0, 0, 1),\n",
       " (1, 1, 1, 0, 1, 0, 1, 0),\n",
       " (1, 1, 1, 0, 1, 0, 1, 1),\n",
       " (1, 1, 1, 0, 1, 1, 0, 0),\n",
       " (1, 1, 1, 0, 1, 1, 0, 1),\n",
       " (1, 1, 1, 0, 1, 1, 1, 0),\n",
       " (1, 1, 1, 0, 1, 1, 1, 1),\n",
       " (1, 1, 1, 1, 0, 0, 0, 0),\n",
       " (1, 1, 1, 1, 0, 0, 0, 1),\n",
       " (1, 1, 1, 1, 0, 0, 1, 0),\n",
       " (1, 1, 1, 1, 0, 0, 1, 1),\n",
       " (1, 1, 1, 1, 0, 1, 0, 0),\n",
       " (1, 1, 1, 1, 0, 1, 0, 1),\n",
       " (1, 1, 1, 1, 0, 1, 1, 0),\n",
       " (1, 1, 1, 1, 0, 1, 1, 1),\n",
       " (1, 1, 1, 1, 1, 0, 0, 0),\n",
       " (1, 1, 1, 1, 1, 0, 0, 1),\n",
       " (1, 1, 1, 1, 1, 0, 1, 0),\n",
       " (1, 1, 1, 1, 1, 0, 1, 1),\n",
       " (1, 1, 1, 1, 1, 1, 0, 0),\n",
       " (1, 1, 1, 1, 1, 1, 0, 1),\n",
       " (1, 1, 1, 1, 1, 1, 1, 0),\n",
       " (1, 1, 1, 1, 1, 1, 1, 1)]"
      ]
     },
     "execution_count": 14,
     "metadata": {},
     "output_type": "execute_result"
    }
   ],
   "source": [
    "L = 4\n",
    "\n",
    "make_spin_basis(L)"
   ]
  },
  {
   "cell_type": "code",
   "execution_count": 15,
   "metadata": {},
   "outputs": [],
   "source": [
    "def spin_density(state, site):\n",
    "    return (state[site] - 0.5)\n",
    "\n",
    "def cdag(state,site):\n",
    "    if state[site]==1:\n",
    "        return None\n",
    "    else:\n",
    "        retstate = list(state)\n",
    "        retstate[site]=1\n",
    "        retstate=tuple(retstate)\n",
    "        nSpinfermions = sum(state[:site])\n",
    "        \n",
    "        if nSpinfermions%2==0:\n",
    "            return (retstate, 1)\n",
    "        else:\n",
    "            return (retstate, -1)\n",
    "\n",
    "def c(state,site):\n",
    "    if state[site]==0:\n",
    "        return None\n",
    "    else:\n",
    "        retstate = list(state)\n",
    "        retstate[site]=0\n",
    "        retstate=tuple(retstate)\n",
    "        nfermions = sum(state[:site])\n",
    "        \n",
    "        if nfermions%2==0:\n",
    "            return (retstate, 1)\n",
    "        else:\n",
    "            return (retstate, -1)\n",
    "        \n",
    "\n",
    "def create_spin_H(L):\n",
    "    basis = make_spin_basis(L) #returns basis which state is 2*L long\n",
    "    dim=len(basis)\n",
    "    H=np.zeros((dim,dim))\n",
    "    \n",
    "    for row,s in enumerate(basis):\n",
    "        diagmatel = 0.0\n",
    "        for i in range(L*2):\n",
    "            diagmatel+= spin_density(s,2*i)*spin_density(s,(2*i+1)%(L*2))\n",
    "        H[row,row]=diagmatel\n",
    "        \n",
    "        for i in range((L*2)):\n",
    "            ret = c(s,(i+1)%L)\n",
    "            if ret!=None:\n",
    "                s2,sign = ret\n",
    "                \n",
    "                ret2 = cdag(s2,i)\n",
    "                if ret2!=None:\n",
    "                    s3,sign2=ret2\n",
    "                    \n",
    "                    col=basis.index(s3)\n",
    "                    H[row,col]=sign*sign2*hopping\n",
    "                    H[col,row]=sign*sign2*hopping\n",
    "    return H\n",
    "        "
   ]
  },
  {
   "cell_type": "code",
   "execution_count": 16,
   "metadata": {},
   "outputs": [],
   "source": [
    "import itertools as it\n",
    "import numpy as np\n",
    "\n",
    "def genBasis(L): #L number of fermions\n",
    "    tmp = it.product([0,1], repeat = 2*L) # generate object that itterates over all combinations\n",
    "    return np.asarray([i for i in tmp]) # assemble the list"
   ]
  },
  {
   "cell_type": "code",
   "execution_count": 22,
   "metadata": {},
   "outputs": [
    {
     "name": "stdout",
     "output_type": "stream",
     "text": [
      "[[0 0]\n",
      " [0 1]\n",
      " [1 0]\n",
      " [1 1]]\n"
     ]
    }
   ],
   "source": [
    "L = 1\n",
    "\n",
    "print(genBasis(L))"
   ]
  },
  {
   "cell_type": "code",
   "execution_count": 18,
   "metadata": {},
   "outputs": [],
   "source": [
    "def spin_density(state, site):\n",
    "    return (state[site] - 0.5)\n",
    "\n",
    "def c(state, coef, site): #state is copy\n",
    "    if (state[site] == 0):\n",
    "        return np.zeros(len(state)), 0\n",
    "    else:\n",
    "        state[site] = 0\n",
    "        if (np.sum(state[:site])%2 == 0):\n",
    "            return state , 1\n",
    "        else:\n",
    "            return state , -1\n",
    "    \n",
    "def cdag(state, coef, site):\n",
    "    if (state[site] == 1):\n",
    "        return np.zeros(len(state)), 0\n",
    "    else:\n",
    "        state[site] = 1\n",
    "        if (np.sum(state[:site])%2 == 0):\n",
    "            return state , 1*coef\n",
    "        else:\n",
    "            return state , -1*coef\n",
    "\n",
    "def hubbardHamiltonian(statei,statej, L,t,U): #spin up at even indicies spin down at odd\n",
    "    hDiag = 0\n",
    "    if ((np.array_equal(statei,statej))):\n",
    "        hDiag = U * np.sum([spin_density(statei, 2*i)*spin_density(statei, (2*i +1)%(2*L)) for i in range(L)])\n",
    "    hOfdiag = 0\n",
    "    for s in range(L):\n",
    "        for sigm in [0,1]:\n",
    "            state1, coef1 = cdag(*c(np.copy(statei),1,2*s + sigm),(2*(s+1) + sigm)%(2*L))\n",
    "            state2, coef2 = c(*cdag(np.copy(statei),1,2*s + sigm),(2*(s+1) + sigm)%(2*L))\n",
    "            if np.array_equal(state1, statej):\n",
    "                hOfdiag += coef1 * (-t)\n",
    "            if np.array_equal(state2, statej):\n",
    "                hOfdiag += coef2 * (-t)\n",
    "    return hDiag + hOfdiag\n",
    "\n",
    "def calcMatrix(Basis, L, t,U):# calculate the basis by calculating the hamiltonian with all combination from the basis\n",
    "    Matrix = np.empty((len(Basis),len(Basis)))\n",
    "    for i, j in it.product(range(len(Basis)), repeat=2):\n",
    "        Matrix[i,j] = hubbardHamiltonian(Basis[i], Basis[j], L, t, U)\n",
    "    return Matrix"
   ]
  },
  {
   "cell_type": "code",
   "execution_count": 19,
   "metadata": {},
   "outputs": [
    {
     "name": "stdout",
     "output_type": "stream",
     "text": [
      "(array([0, 0, 0, 0]), 1)\n",
      "[0 1 0 0]\n"
     ]
    }
   ],
   "source": [
    "testindex = 4\n",
    "\n",
    "a = genBasis(L)\n",
    "print(c(np.copy(a[testindex]), 1,1))\n",
    "print(a[testindex])"
   ]
  },
  {
   "cell_type": "code",
   "execution_count": 20,
   "metadata": {},
   "outputs": [
    {
     "name": "stdout",
     "output_type": "stream",
     "text": [
      "0.0\n",
      "0\n"
     ]
    }
   ],
   "source": [
    "print(hubbardHamiltonian(a[testindex],a[testindex],L,1,1))\n",
    "\n",
    "print(hubbardHamiltonian(a[testindex],a[testindex + 4],L,1,1))"
   ]
  },
  {
   "cell_type": "code",
   "execution_count": 23,
   "metadata": {},
   "outputs": [
    {
     "data": {
      "text/latex": [
       "$\\displaystyle \\left[\\begin{matrix}-1.75 & 0 & 0 & 0\\\\0 & -2.25 & 0 & 0\\\\0 & 0 & -0.25 & 0\\\\0 & 0 & 0 & -1.75\\end{matrix}\\right]$"
      ],
      "text/plain": [
       "Matrix([\n",
       "[-1.75,     0,     0,     0],\n",
       "[    0, -2.25,     0,     0],\n",
       "[    0,     0, -0.25,     0],\n",
       "[    0,     0,     0, -1.75]])"
      ]
     },
     "execution_count": 23,
     "metadata": {},
     "output_type": "execute_result"
    }
   ],
   "source": [
    "import sympy\n",
    "sympy.Matrix(calcMatrix(genBasis(L),L,1,1))"
   ]
  }
 ],
 "metadata": {
  "interpreter": {
   "hash": "916dbcbb3f70747c44a77c7bcd40155683ae19c65e1c03b4aa3499c5328201f1"
  },
  "kernelspec": {
   "display_name": "Python 3.8.10 64-bit",
   "language": "python",
   "name": "python3"
  },
  "language_info": {
   "codemirror_mode": {
    "name": "ipython",
    "version": 3
   },
   "file_extension": ".py",
   "mimetype": "text/x-python",
   "name": "python",
   "nbconvert_exporter": "python",
   "pygments_lexer": "ipython3",
   "version": "3.8.10"
  },
  "orig_nbformat": 4
 },
 "nbformat": 4,
 "nbformat_minor": 2
}
